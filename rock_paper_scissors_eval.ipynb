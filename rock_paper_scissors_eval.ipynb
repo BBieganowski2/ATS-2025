{
 "cells": [
  {
   "cell_type": "code",
   "execution_count": 1,
   "metadata": {},
   "outputs": [],
   "source": [
    "import numpy as np"
   ]
  },
  {
   "cell_type": "code",
   "execution_count": 31,
   "metadata": {},
   "outputs": [],
   "source": [
    "class YourTeamName:\n",
    "    \"\"\"\"\n",
    "    111111: Joe Doe\n",
    "    222222: Jane Doe\n",
    "    333333: John Doe\n",
    "    \"\"\"\n",
    "\n",
    "    def get_action(self, your_past_actions, opponent_past_actions):\n",
    "        return np.random.choice(['rock', 'paper', 'scissors'])\n",
    "    \n",
    "\n",
    "class RockPaperScissorsMasters:\n",
    "    \"\"\"\n",
    "    444444: Alfred Nobel\n",
    "    555555: John Doe\n",
    "    666666: Jane Doe\n",
    "    \"\"\"\n",
    "\n",
    "    def get_action(self, your_past_actions, opponent_past_actions):\n",
    "        if opponent_past_actions == []:\n",
    "            return 'rock'\n",
    "        else:\n",
    "            return opponent_past_actions[-1]\n"
   ]
  },
  {
   "cell_type": "code",
   "execution_count": 32,
   "metadata": {},
   "outputs": [],
   "source": [
    "class Evaluator:\n",
    "    \n",
    "    def action_is_valid(self, action):\n",
    "        if action not in ['rock', 'paper', 'scissors']:\n",
    "            return False\n",
    "        return True\n",
    "\n",
    "    def evaluate(self, participant_1, participant_2):\n",
    "        team1_name = participant_1.__class__.__name__\n",
    "        team2_name = participant_2.__class__.__name__\n",
    "        print(f\"Evaluating {team1_name} vs {team2_name}\")\n",
    "\n",
    "        team1_score = 0\n",
    "        team2_score = 0\n",
    "\n",
    "        team1_past_actions = []\n",
    "        team2_past_actions = []\n",
    "\n",
    "        for i in range(1000):\n",
    "            team1_action = participant_1.get_action(team1_past_actions, team2_past_actions)\n",
    "            team2_action = participant_2.get_action(team2_past_actions, team1_past_actions)\n",
    "\n",
    "            if not self.action_is_valid(team1_action):\n",
    "                print(f\"Team 1 action {team1_action} is invalid\")\n",
    "                team2_score += 1\n",
    "                team1_past_actions.append('invalid')\n",
    "                team2_past_actions.append(team2_action)\n",
    "                continue\n",
    "            if not self.action_is_valid(team2_action):\n",
    "                print(f\"Team 2 action {team2_action} is invalid\")\n",
    "                team1_score += 1\n",
    "                team1_past_actions.append(team1_action)\n",
    "                team2_past_actions.append('invalid')\n",
    "                continue\n",
    "\n",
    "            if team1_action == team2_action:\n",
    "                if np.random.rand() < 0.5:\n",
    "                    team1_score += 1\n",
    "                else:\n",
    "                    team2_score += 1\n",
    "            elif team1_action == 'rock' and team2_action == 'scissors':\n",
    "                team1_score += 1\n",
    "            elif team1_action == 'scissors' and team2_action == 'rock':\n",
    "                team2_score += 1\n",
    "            elif team1_action == 'paper' and team2_action == 'rock':\n",
    "                team1_score += 1\n",
    "            elif team1_action == 'rock' and team2_action == 'paper':\n",
    "                team2_score += 1\n",
    "            elif team1_action == 'scissors' and team2_action == 'paper':\n",
    "                team1_score += 1\n",
    "            else:\n",
    "                team2_score += 1\n",
    "            \n",
    "            team1_past_actions.append(team1_action)\n",
    "            team2_past_actions.append(team2_action)\n",
    "            \n",
    "\n",
    "        print(f\"Team 1 score: {team1_score}\")\n",
    "        print(f\"Team 2 score: {team2_score}\")\n",
    "        if team1_score > team2_score:\n",
    "            print(f\"Winner: {team1_name}\")\n",
    "        elif team2_score > team1_score:\n",
    "            print(f\"Winner: {team2_name}\") \n",
    "        else:\n",
    "            print(\"Tie!\")\n",
    "\n"
   ]
  },
  {
   "cell_type": "code",
   "execution_count": 43,
   "metadata": {},
   "outputs": [
    {
     "name": "stdout",
     "output_type": "stream",
     "text": [
      "Evaluating YourTeamName vs RockPaperScissorsMasters\n",
      "Team 1 score: 485\n",
      "Team 2 score: 515\n",
      "Winner: RockPaperScissorsMasters\n"
     ]
    }
   ],
   "source": [
    "instance1 = YourTeamName()\n",
    "instance2 = RockPaperScissorsMasters()\n",
    "\n",
    "evaluator = Evaluator()\n",
    "evaluator.evaluate(instance1, instance2)"
   ]
  },
  {
   "cell_type": "code",
   "execution_count": null,
   "metadata": {},
   "outputs": [],
   "source": []
  }
 ],
 "metadata": {
  "kernelspec": {
   "display_name": "venv",
   "language": "python",
   "name": "python3"
  },
  "language_info": {
   "codemirror_mode": {
    "name": "ipython",
    "version": 3
   },
   "file_extension": ".py",
   "mimetype": "text/x-python",
   "name": "python",
   "nbconvert_exporter": "python",
   "pygments_lexer": "ipython3",
   "version": "3.12.3"
  }
 },
 "nbformat": 4,
 "nbformat_minor": 2
}
