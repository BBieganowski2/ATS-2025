{
 "cells": [
  {
   "cell_type": "code",
   "execution_count": null,
   "metadata": {},
   "outputs": [
    {
     "ename": "",
     "evalue": "",
     "output_type": "error",
     "traceback": [
      "\u001b[1;31mRunning cells with 'Python 3.12.3' requires the ipykernel package.\n",
      "\u001b[1;31mRun the following command to install 'ipykernel' into the Python environment. \n",
      "\u001b[1;31mCommand: '/bin/python3 -m pip install ipykernel -U --user --force-reinstall'"
     ]
    }
   ],
   "source": [
    "import pandas as pd\n",
    "import glob\n",
    "import os\n",
    "import json\n"
   ]
  },
  {
   "cell_type": "code",
   "execution_count": 2,
   "metadata": {},
   "outputs": [],
   "source": [
    "latest_backtest = max(os.listdir('backtests'), key=lambda x: os.path.getmtime(os.path.join('backtests', x)))\n",
    "content = open(os.path.join('backtests', latest_backtest), 'r').readlines()"
   ]
  },
  {
   "cell_type": "code",
   "execution_count": null,
   "metadata": {},
   "outputs": [],
   "source": [
    "ts_start = [content.index(x) for x in content if 'Trade History' in x][0]\n",
    "sandbox_log = [content.index(x) for x in content if 'Sandbox logs' in x][0]\n",
    "al_history = [content.index(x) for x in content if 'Activities log' in x][0]\n",
    "\n",
    "ts_start, sandbox_log, al_history"
   ]
  },
  {
   "cell_type": "code",
   "execution_count": 4,
   "metadata": {},
   "outputs": [],
   "source": [
    "sandbox = content[sandbox_log+1:al_history-3]\n",
    "sandbox = [x.strip() for x in sandbox]\n",
    "json_string = \"[\" + \"\".join(sandbox).replace(\"}{\", \"},{\") + \"]\"\n",
    "logs = pd.DataFrame(json.loads(json_string))\n",
    "logs.to_csv('sandbox_logs.csv')"
   ]
  },
  {
   "cell_type": "code",
   "execution_count": 5,
   "metadata": {},
   "outputs": [],
   "source": [
    "activity_logs = content[al_history+1:ts_start-4]\n",
    "df = pd.DataFrame(activity_logs)[0].str.strip().str.split(';', expand=True)\n",
    "df.columns = df.loc[0]\n",
    "activity_logs_df = df.iloc[1:]\n",
    "activity_logs_df\n",
    "activity_logs_df.to_csv('activity_logs.csv')"
   ]
  },
  {
   "cell_type": "code",
   "execution_count": null,
   "metadata": {},
   "outputs": [],
   "source": [
    "activity_logs_df"
   ]
  },
  {
   "cell_type": "code",
   "execution_count": 7,
   "metadata": {},
   "outputs": [],
   "source": [
    "trades = content[ts_start+1:]"
   ]
  },
  {
   "cell_type": "code",
   "execution_count": 8,
   "metadata": {},
   "outputs": [],
   "source": [
    "json_str = \"\".join(trades)\n",
    "\n",
    "json_str = json_str.replace(\",\\n  }\", \"\\n  }\")  # Remove trailing commas\n",
    "json_str = json_str.replace(\",\\n]\", \"\\n]\")  # Remove trailing comma \n",
    "data = json.loads(json_str)\n",
    "trades_df = pd.DataFrame(data)\n",
    "trades_df.to_csv('trades.csv')"
   ]
  },
  {
   "cell_type": "code",
   "execution_count": null,
   "metadata": {},
   "outputs": [],
   "source": [
    "trades_df"
   ]
  },
  {
   "cell_type": "code",
   "execution_count": null,
   "metadata": {},
   "outputs": [],
   "source": []
  }
 ],
 "metadata": {
  "kernelspec": {
   "display_name": "venv",
   "language": "python",
   "name": "python3"
  },
  "language_info": {
   "codemirror_mode": {
    "name": "ipython",
    "version": 3
   },
   "file_extension": ".py",
   "mimetype": "text/x-python",
   "name": "python",
   "nbconvert_exporter": "python",
   "pygments_lexer": "ipython3",
   "version": "3.12.3"
  }
 },
 "nbformat": 4,
 "nbformat_minor": 2
}
