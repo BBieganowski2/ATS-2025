{
 "cells": [
  {
   "cell_type": "markdown",
   "metadata": {},
   "source": [
    "# Key Microstructural Models - Code Examples\n",
    "This notebook provides simple Python examples illustrating the core concepts from the \"Key Microstructural Models\" presentation."
   ]
  },
  {
   "cell_type": "markdown",
   "metadata": {},
   "source": [
    "Basic imports"
   ]
  },
  {
   "cell_type": "code",
   "execution_count": 1,
   "metadata": {},
   "outputs": [
    {
     "name": "stderr",
     "output_type": "stream",
     "text": [
      "inotify_add_watch(/home/bartosz/.config/ibus/bus/b0b90529b50644eb93c9a0e6063151db-unix-wayland-0) failed: (No space left on device)\n"
     ]
    }
   ],
   "source": [
    "%matplotlib qt\n",
    "import numpy as np\n",
    "import pandas as pd\n",
    "import matplotlib.pyplot as plt"
   ]
  },
  {
   "cell_type": "markdown",
   "metadata": {},
   "source": [
    "## 1. The Roll Model: Estimating Implicit Spreads\n",
    "**Concept:** Infers the effective bid-ask spread from the negative serial correlation (autocovariance) observed in transaction price *changes*, caused by the \"bid-ask bounce\".\n",
    "**Formula:** \n",
    "$$Spread = 2 \\times c = 2 \\times \\sqrt{-Cov(\\Delta p_t, \\Delta p_{t-1})}$$"
   ]
  },
  {
   "cell_type": "markdown",
   "metadata": {},
   "source": [
    "Simulate data according to Roll's assumptions"
   ]
  },
  {
   "cell_type": "markdown",
   "metadata": {},
   "source": [
    "Parameters"
   ]
  },
  {
   "cell_type": "code",
   "execution_count": 56,
   "metadata": {},
   "outputs": [],
   "source": [
    "n_trades = 1000\n",
    "mid_price_start = 100.0\n",
    "volatility = 0.05 # Std dev of mid-price change (u_t) - Keep low for Roll\n",
    "\n",
    "half_spread_c = 0.05 # Constant half-spread\n"
   ]
  },
  {
   "cell_type": "markdown",
   "metadata": {},
   "source": [
    "Generate mid-price random walk (m_t)\n",
    "We only need the *changes* u_t, assume m_{t-1} is fixed for price calculation\n",
    "A simple way: assume mid-price doesn't change much between trades for illustration\n",
    "Or simulate it properly:"
   ]
  },
  {
   "cell_type": "code",
   "execution_count": 57,
   "metadata": {},
   "outputs": [
    {
     "data": {
      "text/plain": [
       "[<matplotlib.lines.Line2D at 0x754b5bc6a710>]"
      ]
     },
     "execution_count": 57,
     "metadata": {},
     "output_type": "execute_result"
    }
   ],
   "source": [
    "mid_price = mid_price_start + np.random.normal(0, volatility, n_trades).cumsum()\n",
    "plt.plot(mid_price)\n",
    "\n",
    "# Add random walk component - NOTE: Roll assumes u_t is independent of q_t\n",
    "# For pure illustration of bounce, we can even set volatility = 0\n",
    "# mid_price_changes = np.random.normal(0, volatility, n_trades)\n",
    "# mid_price = mid_price_start + np.cumsum(mid_price_changes)"
   ]
  },
  {
   "cell_type": "code",
   "execution_count": 58,
   "metadata": {},
   "outputs": [
    {
     "data": {
      "text/plain": [
       "array([ 99.95578288,  99.96778562,  99.92734888,  99.9680081 ,\n",
       "        99.87506796,  99.89871845,  99.88327797,  99.91263931,\n",
       "        99.96017289,  99.85758539,  99.83196226,  99.82604528,\n",
       "        99.81359488,  99.85633557,  99.86862873,  99.95666154,\n",
       "        99.9700223 ,  99.99483959,  99.97660345, 100.01700893,\n",
       "        99.9901984 , 100.02217527,  99.97039858,  99.93845254,\n",
       "        99.94177659,  99.94020659,  99.96156575,  99.99523146,\n",
       "        99.97505512, 100.04241437, 100.05782799,  99.99042243,\n",
       "        99.95252042,  99.99333058,  99.92428577,  99.87783868,\n",
       "        99.90739821,  99.95542769,  99.96135629,  99.91506004,\n",
       "        99.81407449,  99.7754201 ,  99.75214507,  99.74798752,\n",
       "        99.79143528,  99.75358522,  99.77043157,  99.73328188,\n",
       "        99.81033224,  99.8257499 ,  99.85402285,  99.88156091,\n",
       "        99.82635721,  99.75684343,  99.77453329,  99.75953161,\n",
       "        99.78737717,  99.70572092,  99.73179722,  99.70924134,\n",
       "        99.72250932,  99.85672514,  99.92100238,  99.9193773 ,\n",
       "        99.90086509, 100.01204342, 100.11751043, 100.13588601,\n",
       "       100.11039454, 100.19067392, 100.19581693, 100.23403743,\n",
       "       100.14596921, 100.14670844, 100.15304818, 100.20263674,\n",
       "       100.19305901, 100.15246528, 100.06240867, 100.02225861,\n",
       "       100.06851432, 100.17181726, 100.16582557, 100.1460566 ,\n",
       "       100.11806048, 100.14553209, 100.17988784, 100.18925077,\n",
       "       100.21609395, 100.29272771, 100.27896289, 100.23349279,\n",
       "       100.23408059, 100.15827161, 100.23849896, 100.25722424,\n",
       "       100.35337892, 100.35453909, 100.36509901, 100.38680011,\n",
       "       100.44021656, 100.48058222, 100.4595916 , 100.51818678,\n",
       "       100.56961213, 100.56021796, 100.48382115, 100.54189621,\n",
       "       100.56590364, 100.63300688, 100.62918816, 100.60591829,\n",
       "       100.57260373, 100.59872534, 100.60163517, 100.65660074,\n",
       "       100.71058892, 100.70965018, 100.667372  , 100.61618797,\n",
       "       100.610998  , 100.62666637, 100.68555055, 100.65748531,\n",
       "       100.7855028 , 100.82339076, 100.86009745, 100.80019951,\n",
       "       100.80967405, 100.80042712, 100.91216292, 100.91388457,\n",
       "       100.91149759, 100.946652  , 100.8867721 , 100.82369905,\n",
       "       100.90943604, 100.94291461, 100.92478895, 100.93205669,\n",
       "       100.86842582, 100.96250614, 101.01296032, 100.9224315 ,\n",
       "       100.93987844, 100.98341402, 101.08320071, 101.09242693,\n",
       "       101.10784552, 101.04336131, 101.04151295, 101.05410653,\n",
       "       101.08487594, 101.0046356 , 101.00609939, 100.9375808 ,\n",
       "       100.91159656, 100.92264922, 100.98459706, 101.01871509,\n",
       "       101.05124368, 101.08415254, 100.99320089, 100.96644078,\n",
       "       101.03322654, 100.97722719, 100.97662645, 100.94205637,\n",
       "       100.91080801, 100.9043175 , 100.91779987, 100.87987051,\n",
       "       100.86378957, 100.89276077, 100.88266912, 100.90974619,\n",
       "       100.85548681, 100.97969088, 100.9853588 , 101.0310036 ,\n",
       "       101.08735396, 101.07570569, 101.04553554, 101.11151362,\n",
       "       101.10264223, 101.15082725, 101.10821327, 101.06083348,\n",
       "       101.117013  , 101.06793039, 101.0600705 , 101.02611494,\n",
       "       100.96208025, 101.02441551, 101.0309977 , 101.0678083 ,\n",
       "       101.11715381, 101.1043033 , 101.09750552, 101.11212481,\n",
       "       101.11938883, 101.12688696, 101.1652001 , 101.25003432,\n",
       "       101.23235035, 101.22591744, 101.29953237, 101.30484939,\n",
       "       101.29429003, 101.32919704, 101.39793305, 101.45193713,\n",
       "       101.37899359, 101.4388229 , 101.43812106, 101.40260457,\n",
       "       101.49817233, 101.49715328, 101.46918991, 101.42221838,\n",
       "       101.46303007, 101.53813501, 101.53946889, 101.61796138,\n",
       "       101.58757648, 101.57276057, 101.58878192, 101.55672979,\n",
       "       101.64400797, 101.7517097 , 101.76681047, 101.75656058,\n",
       "       101.73918524, 101.73602967, 101.65620654, 101.6945076 ,\n",
       "       101.73649946, 101.66672699, 101.63970137, 101.73777991,\n",
       "       101.72026296, 101.79266322, 101.7681419 , 101.72865345,\n",
       "       101.70447442, 101.62825152, 101.73912342, 101.7690472 ,\n",
       "       101.76597143, 101.7068112 , 101.7428507 , 101.76939607,\n",
       "       101.76864109, 101.76620918, 101.81913612, 101.83068707,\n",
       "       101.87225574, 101.8607034 , 101.83766897, 101.89103095,\n",
       "       101.89238071, 101.91141605, 101.91457822, 101.88429273,\n",
       "       101.8761244 , 101.89503198, 101.83329867, 101.8568566 ,\n",
       "       101.95885979, 101.94001186, 101.95926096, 101.92152978,\n",
       "       101.87932434, 101.89870062, 101.84692423, 101.8963323 ,\n",
       "       101.90342792, 101.90761511, 101.83580446, 101.84531629,\n",
       "       101.79308845, 101.83457342, 101.83736785, 101.84634795,\n",
       "       101.85249576, 101.85877707, 101.88428142, 101.89738413,\n",
       "       101.94900317, 102.04499837, 102.04595275, 102.04868381,\n",
       "       102.09921208, 102.21582294, 102.28025918, 102.30096394,\n",
       "       102.36808238, 102.36138663, 102.38830771, 102.36983142,\n",
       "       102.40378538, 102.4320875 , 102.45422884, 102.50071631,\n",
       "       102.53226711, 102.56891634, 102.59309676, 102.63237771,\n",
       "       102.6021945 , 102.60795065, 102.51798048, 102.59131367,\n",
       "       102.59958556, 102.6348431 , 102.66217657, 102.69643056,\n",
       "       102.61860737, 102.68543412, 102.65286007, 102.7725198 ,\n",
       "       102.86663115, 102.94629723, 102.90807733, 102.83900392,\n",
       "       102.79741964, 102.8668703 , 102.89596832, 102.95774812,\n",
       "       102.88736179, 102.90438834, 102.88239749, 102.83833845,\n",
       "       102.91046544, 102.86751422, 102.83578882, 102.85866505,\n",
       "       102.86637556, 102.88199356, 102.91610158, 102.88379384,\n",
       "       102.87477662, 102.88493999, 102.81901512, 102.91072   ,\n",
       "       102.79207312, 102.76584448, 102.75052498, 102.69700403,\n",
       "       102.70123909, 102.71106286, 102.74988158, 102.84429071,\n",
       "       102.87329822, 102.83143834, 102.74015325, 102.66450751,\n",
       "       102.66624374, 102.67160545, 102.77710336, 102.80546518,\n",
       "       102.77500289, 102.8276965 , 102.89433395, 102.88498639,\n",
       "       102.84150359, 102.90673004, 102.90044246, 102.92005789,\n",
       "       103.04007148, 103.06746441, 103.05165771, 102.98806504,\n",
       "       102.99300911, 103.01314581, 103.0245013 , 103.01108066,\n",
       "       102.99315062, 103.01374276, 103.05352731, 102.97190238,\n",
       "       103.00769357, 103.04652571, 103.08547773, 103.09391957,\n",
       "       103.04668245, 103.03056536, 103.0823121 , 103.1326184 ,\n",
       "       103.21801683, 103.23075788, 103.18603076, 103.20586877,\n",
       "       103.2452233 , 103.17505974, 103.14250172, 103.17375028,\n",
       "       103.23902937, 103.20243917, 103.16218621, 103.17582889,\n",
       "       103.20471651, 103.12871244, 103.067432  , 103.10440883,\n",
       "       103.16235813, 103.26190552, 103.28537876, 103.34733832,\n",
       "       103.3807675 , 103.29164889, 103.34704942, 103.34286103,\n",
       "       103.45596813, 103.47253815, 103.46484463, 103.39874444,\n",
       "       103.44670693, 103.52989288, 103.53340048, 103.45815174,\n",
       "       103.50588906, 103.51352985, 103.43119108, 103.46035356,\n",
       "       103.45985065, 103.40824707, 103.39664029, 103.32154415,\n",
       "       103.31614866, 103.3471951 , 103.40112493, 103.37567803,\n",
       "       103.39125108, 103.43269459, 103.42820884, 103.45574216,\n",
       "       103.49038536, 103.54251344, 103.53197747, 103.51808236,\n",
       "       103.44599495, 103.48780092, 103.56277237, 103.55763117,\n",
       "       103.50448572, 103.52780837, 103.59537315, 103.54258049,\n",
       "       103.57835804, 103.56831165, 103.52318016, 103.55844468,\n",
       "       103.5239678 , 103.51210272, 103.45055944, 103.42800261,\n",
       "       103.48929553, 103.48744607, 103.51437239, 103.6227041 ,\n",
       "       103.61249693, 103.55842833, 103.57134114, 103.56212305,\n",
       "       103.62831018, 103.57446718, 103.60862436, 103.72206964,\n",
       "       103.75128082, 103.75558218, 103.66825646, 103.73732677,\n",
       "       103.68313174, 103.63980001, 103.69247701, 103.64035153,\n",
       "       103.72717231, 103.79342554, 103.76237026, 103.70471326,\n",
       "       103.68074331, 103.63381588, 103.56593347, 103.62201464,\n",
       "       103.58800093, 103.60169383, 103.57255139, 103.51541274,\n",
       "       103.47847489, 103.44851755, 103.38153753, 103.35998294,\n",
       "       103.34979932, 103.3498383 , 103.36109469, 103.36265315,\n",
       "       103.3880027 , 103.32760842, 103.29998819, 103.297699  ,\n",
       "       103.25627834, 103.28392234, 103.2972134 , 103.24258556,\n",
       "       103.35757954, 103.35582195, 103.29053141, 103.23651616,\n",
       "       103.32827794, 103.28195442, 103.26946692, 103.21287363,\n",
       "       103.21303553, 103.20842757, 103.22732777, 103.18930796,\n",
       "       103.20236379, 103.13853716, 103.16859701, 103.26191664,\n",
       "       103.24265768, 103.23548548, 103.21202339, 103.25642485,\n",
       "       103.22056371, 103.29097526, 103.1758197 , 103.27505234,\n",
       "       103.25364127, 103.11023744, 103.05977078, 103.08343837,\n",
       "       103.09896807, 103.0286076 , 103.09465037, 103.01981033,\n",
       "       102.97421292, 102.96885751, 102.9850988 , 103.05744094,\n",
       "       103.05089085, 103.07083841, 103.04737147, 102.94404614,\n",
       "       102.99154848, 102.90870729, 102.83190808, 102.84154024,\n",
       "       102.85671007, 102.86811696, 102.86477305, 102.89583222,\n",
       "       102.84036563, 102.8136361 , 102.80592124, 102.83604294,\n",
       "       102.79125136, 102.80011634, 102.80111021, 102.76525854,\n",
       "       102.71717146, 102.72301783, 102.69674026, 102.70091993,\n",
       "       102.70510408, 102.68049512, 102.73692997, 102.75246937,\n",
       "       102.67594288, 102.61748428, 102.55471759, 102.66312608,\n",
       "       102.626015  , 102.56395874, 102.60547809, 102.53543542,\n",
       "       102.46669052, 102.52243154, 102.50390593, 102.49017685,\n",
       "       102.41794016, 102.45377884, 102.42906931, 102.51840119,\n",
       "       102.45104111, 102.43409544, 102.41151535, 102.32536465,\n",
       "       102.26954364, 102.3051392 , 102.25823705, 102.28410786,\n",
       "       102.29516553, 102.28103954, 102.25299068, 102.25235374,\n",
       "       102.35109825, 102.40571282, 102.35158939, 102.34231635,\n",
       "       102.31432615, 102.27547155, 102.26860031, 102.23551641,\n",
       "       102.24941218, 102.29832352, 102.24879356, 102.24377381,\n",
       "       102.16905666, 102.1920373 , 102.16511597, 102.11494181,\n",
       "       102.09857426, 102.00302464, 102.05064371, 102.02774111,\n",
       "       102.02517974, 102.01343214, 102.07391955, 102.02946988,\n",
       "       101.94366553, 101.94287054, 101.9894051 , 101.97454945,\n",
       "       101.98505108, 102.02406065, 102.0031129 , 101.99727734,\n",
       "       102.01348207, 101.98913753, 101.94907445, 101.89881737,\n",
       "       101.91781589, 101.89307215, 101.91240629, 101.94737727,\n",
       "       101.93389932, 101.88207376, 101.91037373, 101.90341949,\n",
       "       101.85647215, 101.86003595, 101.88859404, 101.88112144,\n",
       "       101.83355389, 101.87237436, 101.8041118 , 101.74773243,\n",
       "       101.76840267, 101.66521178, 101.70567521, 101.71926443,\n",
       "       101.77775111, 101.7020149 , 101.70775617, 101.70048722,\n",
       "       101.73875889, 101.78950871, 101.78893575, 101.73187139,\n",
       "       101.7174925 , 101.67164128, 101.55591704, 101.66617121,\n",
       "       101.60496461, 101.52247632, 101.49516297, 101.45988701,\n",
       "       101.46173692, 101.43187248, 101.47397105, 101.4845801 ,\n",
       "       101.57813577, 101.62382825, 101.63794684, 101.64556429,\n",
       "       101.59554733, 101.57053322, 101.72009482, 101.66913628,\n",
       "       101.72467667, 101.64862629, 101.65066819, 101.76356032,\n",
       "       101.78189903, 101.74215073, 101.73507791, 101.7439814 ,\n",
       "       101.80765127, 101.83087066, 101.81099399, 101.79592712,\n",
       "       101.86416556, 101.92623749, 101.92779197, 101.86670538,\n",
       "       101.87523784, 101.83261459, 101.7744179 , 101.76455921,\n",
       "       101.79845508, 101.83040236, 101.7964295 , 101.87186714,\n",
       "       101.83190508, 101.81107086, 101.79481607, 101.78660419,\n",
       "       101.76882349, 101.7703849 , 101.79464307, 101.75680034,\n",
       "       101.79623714, 101.81572065, 101.80617401, 101.86909727,\n",
       "       101.95400202, 101.97066573, 102.00733294, 101.98933733,\n",
       "       101.98090229, 101.98469007, 101.9957887 , 102.08641329,\n",
       "       102.05821144, 102.0574327 , 102.11933653, 102.13254223,\n",
       "       102.12201207, 102.13344394, 102.23226203, 102.30947998,\n",
       "       102.33251046, 102.3443538 , 102.25436883, 102.314613  ,\n",
       "       102.31038343, 102.21161212, 102.22635555, 102.23083467,\n",
       "       102.24788676, 102.22847828, 102.14008723, 102.12980933,\n",
       "       102.11967801, 102.1586198 , 102.17666005, 102.23560297,\n",
       "       102.14665519, 102.08550091, 102.09046718, 102.06645084,\n",
       "       102.03579239, 102.03474779, 102.05270555, 102.02291987,\n",
       "       101.93585642, 101.89107501, 101.91492555, 101.86342871,\n",
       "       101.85857134, 101.87660733, 101.92492683, 101.92219156,\n",
       "       101.95175938, 102.00741892, 102.06806457, 102.03391161,\n",
       "       101.93735139, 101.9753699 , 101.94278633, 102.00025845,\n",
       "       101.94287277, 101.90287177, 101.94690262, 101.93032287,\n",
       "       101.95440931, 101.94318539, 101.92722577, 102.00159561,\n",
       "       102.02533024, 102.09000086, 102.08735498, 102.15952606,\n",
       "       102.16258944, 102.12272266, 101.96846533, 101.97104329,\n",
       "       102.04509606, 102.12660352, 102.21357643, 102.05140522,\n",
       "       102.02943741, 101.94667308, 101.91692761, 101.97883   ,\n",
       "       102.00471777, 102.02907385, 102.06974439, 102.16516233,\n",
       "       102.07244892, 102.06328183, 102.06847775, 102.09807495,\n",
       "       102.17161752, 102.12314431, 102.22930003, 102.11873684,\n",
       "       102.19079994, 102.19461241, 102.18984682, 102.22068879,\n",
       "       102.20691878, 102.24240682, 102.24368863, 102.251403  ,\n",
       "       102.34365603, 102.31118543, 102.32156617, 102.35305049,\n",
       "       102.33645049, 102.39067791, 102.41718923, 102.46901801,\n",
       "       102.48974685, 102.59454722, 102.624356  , 102.77816027,\n",
       "       102.7454091 , 102.74913255, 102.7717355 , 102.85983878,\n",
       "       102.84300805, 102.87069624, 102.84152887, 102.80644105,\n",
       "       102.81930555, 102.77499227, 102.80495905, 102.81285934,\n",
       "       102.79848325, 102.68134484, 102.65572996, 102.6317194 ,\n",
       "       102.66828495, 102.74085041, 102.6828532 , 102.65561123,\n",
       "       102.66658014, 102.62238081, 102.55321278, 102.5273983 ,\n",
       "       102.48665102, 102.52010393, 102.57397414, 102.56324534,\n",
       "       102.6172433 , 102.57183641, 102.52609974, 102.55516289,\n",
       "       102.51569168, 102.52556841, 102.44026424, 102.41139644,\n",
       "       102.39576773, 102.44589405, 102.45310679, 102.43680979,\n",
       "       102.4016913 , 102.33154431, 102.32773107, 102.37163122,\n",
       "       102.41495582, 102.4941987 , 102.53755741, 102.60920395,\n",
       "       102.53028244, 102.55548341, 102.67944226, 102.62862922,\n",
       "       102.62086601, 102.62423254, 102.62839506, 102.64897711,\n",
       "       102.66750185, 102.68816044, 102.76740866, 102.75314656,\n",
       "       102.7281805 , 102.69297786, 102.71391711, 102.72112436,\n",
       "       102.75506253, 102.77015267, 102.71579808, 102.78951921,\n",
       "       102.76169131, 102.81820052, 102.86628339, 102.85810477,\n",
       "       102.83677149, 102.85039719, 102.8163143 , 102.79960376,\n",
       "       102.8086174 , 102.7643995 , 102.72477944, 102.73543436,\n",
       "       102.78822576, 102.71745581, 102.68524995, 102.72279889,\n",
       "       102.78679665, 102.77278523, 102.74152015, 102.73947938,\n",
       "       102.74643303, 102.80762768, 102.76569071, 102.75726091,\n",
       "       102.74380131, 102.69291663, 102.66967103, 102.69325595,\n",
       "       102.73792718, 102.70681709, 102.72887075, 102.73475064,\n",
       "       102.74288168, 102.76324821, 102.72554776, 102.76368186,\n",
       "       102.75291088, 102.69462014, 102.69296538, 102.68658063,\n",
       "       102.64593687, 102.62904561, 102.54918426, 102.52088179,\n",
       "       102.52396339, 102.53513708, 102.62020953, 102.61202565,\n",
       "       102.63640612, 102.68862417, 102.69931998, 102.57298594,\n",
       "       102.55248833, 102.6452937 , 102.55531498, 102.57382358,\n",
       "       102.59483872, 102.54614878, 102.55166646, 102.62378332,\n",
       "       102.66519197, 102.60530971, 102.54401464, 102.52956067,\n",
       "       102.50348699, 102.51649825, 102.58884102, 102.50209452,\n",
       "       102.49917559, 102.46514032, 102.49405406, 102.54049295,\n",
       "       102.6060566 , 102.65545662, 102.6525938 , 102.60906357,\n",
       "       102.5391399 , 102.53701656, 102.51497704, 102.46787007,\n",
       "       102.38519654, 102.37381179, 102.44125883, 102.48680373,\n",
       "       102.49622517, 102.45275801, 102.41481995, 102.34557629,\n",
       "       102.38113355, 102.44503712, 102.39454027, 102.3275312 ,\n",
       "       102.30978513, 102.33829985, 102.29415607, 102.28838482,\n",
       "       102.30775978, 102.36176889, 102.37979774, 102.36800693,\n",
       "       102.19924064, 102.21109131, 102.06342864, 102.04999725])"
      ]
     },
     "execution_count": 58,
     "metadata": {},
     "output_type": "execute_result"
    }
   ],
   "source": [
    "mid_price"
   ]
  },
  {
   "cell_type": "markdown",
   "metadata": {},
   "source": [
    "Generate random trade directions (q_t = +1 for buy, -1 for sell)"
   ]
  },
  {
   "cell_type": "code",
   "execution_count": 84,
   "metadata": {},
   "outputs": [],
   "source": [
    "trade_direction_q = np.random.choice([1, -1], size=n_trades, p=[0.01, 0.99])"
   ]
  },
  {
   "cell_type": "markdown",
   "metadata": {},
   "source": [
    "Calculate transaction prices (p_t = m_t + c * q_t)\n",
    "Using a constant mid-price for simplicity here to isolate the bounce effect"
   ]
  },
  {
   "cell_type": "code",
   "execution_count": 85,
   "metadata": {},
   "outputs": [],
   "source": [
    "transaction_price_p = mid_price + half_spread_c * trade_direction_q"
   ]
  },
  {
   "cell_type": "code",
   "execution_count": 86,
   "metadata": {},
   "outputs": [
    {
     "data": {
      "text/plain": [
       "<matplotlib.collections.PathCollection at 0x754b5bb24910>"
      ]
     },
     "execution_count": 86,
     "metadata": {},
     "output_type": "execute_result"
    }
   ],
   "source": [
    "plt.scatter(range(n_trades), transaction_price_p)"
   ]
  },
  {
   "cell_type": "markdown",
   "metadata": {},
   "source": [
    "Put into a pandas Series for easier manipulation"
   ]
  },
  {
   "cell_type": "code",
   "execution_count": 87,
   "metadata": {},
   "outputs": [],
   "source": [
    "prices = pd.Series(transaction_price_p, name=\"Price\")"
   ]
  },
  {
   "cell_type": "code",
   "execution_count": 88,
   "metadata": {},
   "outputs": [
    {
     "data": {
      "text/plain": [
       "0       99.905783\n",
       "1       99.917786\n",
       "2       99.877349\n",
       "3       99.918008\n",
       "4       99.825068\n",
       "          ...    \n",
       "995    102.318007\n",
       "996    102.149241\n",
       "997    102.161091\n",
       "998    102.013429\n",
       "999    101.999997\n",
       "Name: Price, Length: 1000, dtype: float64"
      ]
     },
     "execution_count": 88,
     "metadata": {},
     "output_type": "execute_result"
    }
   ],
   "source": [
    "prices"
   ]
  },
  {
   "cell_type": "markdown",
   "metadata": {},
   "source": [
    "Calculate price changes (Delta p_t)"
   ]
  },
  {
   "cell_type": "code",
   "execution_count": 89,
   "metadata": {},
   "outputs": [
    {
     "data": {
      "text/plain": [
       "Price\n",
       "-0.013431    1\n",
       " 0.012003    1\n",
       "-0.040437    1\n",
       " 0.040659    1\n",
       "-0.092940    1\n",
       "            ..\n",
       "-0.012450    1\n",
       "-0.005917    1\n",
       "-0.025623    1\n",
       "-0.102588    1\n",
       " 0.047534    1\n",
       "Name: count, Length: 999, dtype: int64"
      ]
     },
     "execution_count": 89,
     "metadata": {},
     "output_type": "execute_result"
    }
   ],
   "source": [
    "price_changes = prices.diff().dropna() # drop the first NaN\n",
    "price_changes.value_counts()"
   ]
  },
  {
   "cell_type": "code",
   "execution_count": 100,
   "metadata": {},
   "outputs": [
    {
     "data": {
      "text/html": [
       "<div>\n",
       "<style scoped>\n",
       "    .dataframe tbody tr th:only-of-type {\n",
       "        vertical-align: middle;\n",
       "    }\n",
       "\n",
       "    .dataframe tbody tr th {\n",
       "        vertical-align: top;\n",
       "    }\n",
       "\n",
       "    .dataframe thead th {\n",
       "        text-align: right;\n",
       "    }\n",
       "</style>\n",
       "<table border=\"1\" class=\"dataframe\">\n",
       "  <thead>\n",
       "    <tr style=\"text-align: right;\">\n",
       "      <th></th>\n",
       "      <th>id</th>\n",
       "      <th>price</th>\n",
       "      <th>quantity</th>\n",
       "      <th>dollar_value</th>\n",
       "      <th>timestamp</th>\n",
       "      <th>is_seller_taker</th>\n",
       "      <th>a</th>\n",
       "      <th>price_diff</th>\n",
       "    </tr>\n",
       "  </thead>\n",
       "  <tbody>\n",
       "    <tr>\n",
       "      <th>0</th>\n",
       "      <td>1051349892</td>\n",
       "      <td>0.17194</td>\n",
       "      <td>58.0</td>\n",
       "      <td>9.97252</td>\n",
       "      <td>1741996800142250</td>\n",
       "      <td>True</td>\n",
       "      <td>True</td>\n",
       "      <td>NaN</td>\n",
       "    </tr>\n",
       "    <tr>\n",
       "      <th>1</th>\n",
       "      <td>1051349893</td>\n",
       "      <td>0.17194</td>\n",
       "      <td>7.0</td>\n",
       "      <td>1.20358</td>\n",
       "      <td>1741996800142250</td>\n",
       "      <td>True</td>\n",
       "      <td>True</td>\n",
       "      <td>0.00000</td>\n",
       "    </tr>\n",
       "    <tr>\n",
       "      <th>2</th>\n",
       "      <td>1051349894</td>\n",
       "      <td>0.17194</td>\n",
       "      <td>7.0</td>\n",
       "      <td>1.20358</td>\n",
       "      <td>1741996800142250</td>\n",
       "      <td>True</td>\n",
       "      <td>True</td>\n",
       "      <td>0.00000</td>\n",
       "    </tr>\n",
       "    <tr>\n",
       "      <th>3</th>\n",
       "      <td>1051349895</td>\n",
       "      <td>0.17194</td>\n",
       "      <td>54.0</td>\n",
       "      <td>9.28476</td>\n",
       "      <td>1741996800142250</td>\n",
       "      <td>True</td>\n",
       "      <td>True</td>\n",
       "      <td>0.00000</td>\n",
       "    </tr>\n",
       "    <tr>\n",
       "      <th>4</th>\n",
       "      <td>1051349896</td>\n",
       "      <td>0.17194</td>\n",
       "      <td>4016.0</td>\n",
       "      <td>690.51104</td>\n",
       "      <td>1741996800142250</td>\n",
       "      <td>True</td>\n",
       "      <td>True</td>\n",
       "      <td>0.00000</td>\n",
       "    </tr>\n",
       "    <tr>\n",
       "      <th>...</th>\n",
       "      <td>...</td>\n",
       "      <td>...</td>\n",
       "      <td>...</td>\n",
       "      <td>...</td>\n",
       "      <td>...</td>\n",
       "      <td>...</td>\n",
       "      <td>...</td>\n",
       "      <td>...</td>\n",
       "    </tr>\n",
       "    <tr>\n",
       "      <th>517890</th>\n",
       "      <td>1051867782</td>\n",
       "      <td>0.17593</td>\n",
       "      <td>6.0</td>\n",
       "      <td>1.05558</td>\n",
       "      <td>1742083186100853</td>\n",
       "      <td>False</td>\n",
       "      <td>True</td>\n",
       "      <td>0.00000</td>\n",
       "    </tr>\n",
       "    <tr>\n",
       "      <th>517891</th>\n",
       "      <td>1051867783</td>\n",
       "      <td>0.17593</td>\n",
       "      <td>6.0</td>\n",
       "      <td>1.05558</td>\n",
       "      <td>1742083186100853</td>\n",
       "      <td>False</td>\n",
       "      <td>True</td>\n",
       "      <td>0.00000</td>\n",
       "    </tr>\n",
       "    <tr>\n",
       "      <th>517892</th>\n",
       "      <td>1051867784</td>\n",
       "      <td>0.17593</td>\n",
       "      <td>6.0</td>\n",
       "      <td>1.05558</td>\n",
       "      <td>1742083186100853</td>\n",
       "      <td>False</td>\n",
       "      <td>True</td>\n",
       "      <td>0.00000</td>\n",
       "    </tr>\n",
       "    <tr>\n",
       "      <th>517893</th>\n",
       "      <td>1051867785</td>\n",
       "      <td>0.17593</td>\n",
       "      <td>6.0</td>\n",
       "      <td>1.05558</td>\n",
       "      <td>1742083186100853</td>\n",
       "      <td>False</td>\n",
       "      <td>True</td>\n",
       "      <td>0.00000</td>\n",
       "    </tr>\n",
       "    <tr>\n",
       "      <th>517894</th>\n",
       "      <td>1051867786</td>\n",
       "      <td>0.17594</td>\n",
       "      <td>200.0</td>\n",
       "      <td>35.18800</td>\n",
       "      <td>1742083186100853</td>\n",
       "      <td>False</td>\n",
       "      <td>True</td>\n",
       "      <td>0.00001</td>\n",
       "    </tr>\n",
       "  </tbody>\n",
       "</table>\n",
       "<p>517895 rows × 8 columns</p>\n",
       "</div>"
      ],
      "text/plain": [
       "                id    price  quantity  dollar_value         timestamp  \\\n",
       "0       1051349892  0.17194      58.0       9.97252  1741996800142250   \n",
       "1       1051349893  0.17194       7.0       1.20358  1741996800142250   \n",
       "2       1051349894  0.17194       7.0       1.20358  1741996800142250   \n",
       "3       1051349895  0.17194      54.0       9.28476  1741996800142250   \n",
       "4       1051349896  0.17194    4016.0     690.51104  1741996800142250   \n",
       "...            ...      ...       ...           ...               ...   \n",
       "517890  1051867782  0.17593       6.0       1.05558  1742083186100853   \n",
       "517891  1051867783  0.17593       6.0       1.05558  1742083186100853   \n",
       "517892  1051867784  0.17593       6.0       1.05558  1742083186100853   \n",
       "517893  1051867785  0.17593       6.0       1.05558  1742083186100853   \n",
       "517894  1051867786  0.17594     200.0      35.18800  1742083186100853   \n",
       "\n",
       "        is_seller_taker     a  price_diff  \n",
       "0                  True  True         NaN  \n",
       "1                  True  True     0.00000  \n",
       "2                  True  True     0.00000  \n",
       "3                  True  True     0.00000  \n",
       "4                  True  True     0.00000  \n",
       "...                 ...   ...         ...  \n",
       "517890            False  True     0.00000  \n",
       "517891            False  True     0.00000  \n",
       "517892            False  True     0.00000  \n",
       "517893            False  True     0.00000  \n",
       "517894            False  True     0.00001  \n",
       "\n",
       "[517895 rows x 8 columns]"
      ]
     },
     "execution_count": 100,
     "metadata": {},
     "output_type": "execute_result"
    }
   ],
   "source": [
    "df = pd.read_csv('DOGEUSDT-trades-2025-03-15.csv')\n",
    "df.columns = ['id', 'price', 'quantity', 'dollar_value', 'timestamp', 'is_seller_taker', 'a']\n",
    "df['price_diff'] = df['price'].diff()\n",
    "df"
   ]
  },
  {
   "cell_type": "code",
   "execution_count": 101,
   "metadata": {},
   "outputs": [
    {
     "data": {
      "text/plain": [
       "np.float64(-1.5575343698641342e-12)"
      ]
     },
     "execution_count": 101,
     "metadata": {},
     "output_type": "execute_result"
    }
   ],
   "source": [
    "price_diffs_doge = df['price_diff'].dropna()\n",
    "autocov = price_diffs_doge.autocorr(lag=1) * price_diffs_doge.var()\n",
    "autocov"
   ]
  },
  {
   "cell_type": "markdown",
   "metadata": {},
   "source": [
    "Calculate the first-order autocovariance of price changes\n",
    "$Cov(\\Delta p_t, \\Delta p_{t-1})$"
   ]
  },
  {
   "cell_type": "code",
   "execution_count": 90,
   "metadata": {},
   "outputs": [],
   "source": [
    "autocov = price_changes.autocorr(lag=1) * price_changes.var()\n",
    "# Alternative using pandas built-in covariance (handles alignment)\n",
    "# autocov = price_changes.cov(price_changes.shift(1))"
   ]
  },
  {
   "cell_type": "code",
   "execution_count": 102,
   "metadata": {},
   "outputs": [
    {
     "name": "stdout",
     "output_type": "stream",
     "text": [
      "Estimated Spread: 0.000002\n"
     ]
    }
   ],
   "source": [
    "autocov\n",
    "estimated_c = np.sqrt(-autocov)\n",
    "estimated_spread = 2 * estimated_c\n",
    "print(f\"Estimated Spread: {estimated_spread:.6f}\")"
   ]
  },
  {
   "cell_type": "code",
   "execution_count": 92,
   "metadata": {},
   "outputs": [
    {
     "name": "stdout",
     "output_type": "stream",
     "text": [
      "Simulated Data Parameters:\n",
      "  True Half-Spread (c): 0.05\n",
      "  True Full Spread (2c): 0.1\n",
      "------------------------------\n"
     ]
    }
   ],
   "source": [
    "print(f\"Simulated Data Parameters:\")\n",
    "print(f\"  True Half-Spread (c): {half_spread_c}\")\n",
    "print(f\"  True Full Spread (2c): {2 * half_spread_c}\")\n",
    "print(\"-\" * 30)"
   ]
  },
  {
   "cell_type": "code",
   "execution_count": 93,
   "metadata": {},
   "outputs": [
    {
     "name": "stdout",
     "output_type": "stream",
     "text": [
      "Calculated Results:\n",
      "  Sample Autocovariance(Delta P_t, Delta P_t-1): -0.000087\n"
     ]
    }
   ],
   "source": [
    "print(f\"Calculated Results:\")\n",
    "print(f\"  Sample Autocovariance(Delta P_t, Delta P_t-1): {autocov:.6f}\")"
   ]
  },
  {
   "cell_type": "markdown",
   "metadata": {},
   "source": [
    "Estimate the spread using Roll's formula"
   ]
  },
  {
   "cell_type": "code",
   "execution_count": 94,
   "metadata": {},
   "outputs": [],
   "source": [
    "estimated_c = np.nan # Initialize\n",
    "estimated_spread = np.nan"
   ]
  },
  {
   "cell_type": "code",
   "execution_count": 95,
   "metadata": {},
   "outputs": [
    {
     "name": "stdout",
     "output_type": "stream",
     "text": [
      "  Estimated Half-Spread (c_hat): 0.009306\n",
      "  Estimated Full Spread (2 * c_hat): 0.018611\n"
     ]
    }
   ],
   "source": [
    "if autocov < 0:\n",
    "    estimated_c = np.sqrt(-autocov)\n",
    "    estimated_spread = 2 * estimated_c\n",
    "    print(f\"  Estimated Half-Spread (c_hat): {estimated_c:.6f}\")\n",
    "    print(f\"  Estimated Full Spread (2 * c_hat): {estimated_spread:.6f}\")\n",
    "else:\n",
    "    print(\"  Autocovariance is non-negative. Roll's estimate is not applicable.\")\n",
    "    print(\"  This might happen due to:\")\n",
    "    print(\"    - Sampling noise (especially with few trades)\")\n",
    "    print(\"    - Violations of model assumptions (e.g., mid-price changes dominating)\")"
   ]
  },
  {
   "cell_type": "markdown",
   "metadata": {},
   "source": [
    "Plot price changes to visualize potential negative correlation"
   ]
  },
  {
   "cell_type": "code",
   "execution_count": 71,
   "metadata": {},
   "outputs": [],
   "source": [
    "plt.figure(figsize=(10, 4))\n",
    "plt.scatter(price_changes.iloc[:-1], price_changes.iloc[1:], alpha=0.5)\n",
    "plt.title('Scatter Plot of Price Changes: $\\Delta p_t$ vs $\\Delta p_{t-1}$')\n",
    "plt.xlabel('$\\Delta p_{t-1}$')\n",
    "plt.ylabel('$\\Delta p_t$')\n",
    "plt.axhline(0, color='grey', lw=0.5)\n",
    "plt.axvline(0, color='grey', lw=0.5)\n",
    "plt.grid(True, linestyle='--', alpha=0.6)\n",
    "plt.show()"
   ]
  },
  {
   "cell_type": "markdown",
   "metadata": {},
   "source": [
    "**Roll Model - Exercises:**\n",
    "1.  **Vary Parameters:** Rerun the simulation above with different values for `half_spread_c` and `n_trades`. How does the accuracy of the estimated spread change?\n",
    "2.  **Add Mid-Price Volatility:** Uncomment the lines that simulate `mid_price_changes` with non-zero `volatility`. How does increasing the volatility of the underlying efficient price affect the estimated spread? Why might the estimate become less reliable or even positive (making the formula unusable)? (Hint: Think about the components of the price change $\\Delta p_t = u_t + c(q_t - q_{t-1})$ and their contributions to the covariance).\n",
    "3.  **Unequal Buy/Sell Probability:** Change the probability `p` in `np.random.choice` for `trade_direction_q` (e.g., `p=[0.7, 0.3]`). How does this order flow imbalance affect the model's assumptions and potentially the estimated spread? (Roll's original model assumes 50/50 probability)."
   ]
  },
  {
   "cell_type": "markdown",
   "metadata": {},
   "source": [
    "## 2. The Kyle Model: Price Impact & Informed Trading\n",
    "**Concept:** Models how a market maker sets prices based on observing the *total* order flow ($\\omega$), which is a combination of informed trades ($x$) and noise trades ($u$). The price impact parameter, Kyle's Lambda ($\\lambda$), measures market illiquidity.\n",
    "\n",
    "**Formula:** $ p = \\mu + \\lambda \\omega $ where $\\omega = x + u$"
   ]
  },
  {
   "cell_type": "markdown",
   "metadata": {},
   "source": [
    "Illustrate the Kyle Model pricing rule (simplified, single period)"
   ]
  },
  {
   "cell_type": "markdown",
   "metadata": {},
   "source": [
    "Parameters"
   ]
  },
  {
   "cell_type": "code",
   "execution_count": 103,
   "metadata": {},
   "outputs": [],
   "source": [
    "mu = 100.0      # Prior expected value E[v]\n",
    "lambda_kyle = 0.1 # Assumed Kyle's Lambda (measure of illiquidity)\n",
    "n_simulations = 100 # Number of hypothetical auction rounds to simulate"
   ]
  },
  {
   "cell_type": "markdown",
   "metadata": {},
   "source": [
    "Simulated values for each round\n",
    "Normally, v would be drawn from a distribution\n",
    "Informed trader strategy 'x' and noise 'u' would also be drawn\n",
    "Lambda itself is determined in equilibrium, but we fix it here for illustration"
   ]
  },
  {
   "cell_type": "markdown",
   "metadata": {},
   "source": [
    "Example: Simulate different potential order flows and see the price impact"
   ]
  },
  {
   "cell_type": "code",
   "execution_count": 104,
   "metadata": {},
   "outputs": [],
   "source": [
    "simulated_omega = np.random.normal(0, 50, n_simulations) # Total order flow (e.g., net shares bought/sold)"
   ]
  },
  {
   "cell_type": "code",
   "execution_count": 106,
   "metadata": {},
   "outputs": [
    {
     "data": {
      "text/plain": [
       "[<matplotlib.lines.Line2D at 0x754b5bc2a260>]"
      ]
     },
     "execution_count": 106,
     "metadata": {},
     "output_type": "execute_result"
    }
   ],
   "source": [
    "plt.plot(simulated_omega)"
   ]
  },
  {
   "cell_type": "markdown",
   "metadata": {},
   "source": [
    "Calculate the price set by the Market Maker in each scenario"
   ]
  },
  {
   "cell_type": "code",
   "execution_count": 107,
   "metadata": {},
   "outputs": [],
   "source": [
    "simulated_prices = mu + lambda_kyle * simulated_omega"
   ]
  },
  {
   "cell_type": "code",
   "execution_count": 109,
   "metadata": {},
   "outputs": [
    {
     "data": {
      "text/plain": [
       "[<matplotlib.lines.Line2D at 0x754b5b56e6e0>]"
      ]
     },
     "execution_count": 109,
     "metadata": {},
     "output_type": "execute_result"
    }
   ],
   "source": [
    "fig, axes = plt.subplots(2, 1, figsize=(10, 8))\n",
    "axes[0].plot(simulated_omega)\n",
    "axes[1].plot(simulated_prices)"
   ]
  },
  {
   "cell_type": "markdown",
   "metadata": {},
   "source": [
    "Display some results"
   ]
  },
  {
   "cell_type": "code",
   "execution_count": 110,
   "metadata": {},
   "outputs": [
    {
     "name": "stdout",
     "output_type": "stream",
     "text": [
      "Kyle Model Simulation Results (Fixed Lambda):\n",
      "   Total Order Flow (omega)   Price (p)\n",
      "0                 45.094671  104.509467\n",
      "1                  9.281722  100.928172\n",
      "2                 28.018163  102.801816\n",
      "3                -67.988453   93.201155\n",
      "4                 94.836727  109.483673\n"
     ]
    }
   ],
   "source": [
    "results_kyle = pd.DataFrame({\n",
    "    'Total Order Flow (omega)': simulated_omega,\n",
    "    'Price (p)': simulated_prices\n",
    "})\n",
    "print(\"Kyle Model Simulation Results (Fixed Lambda):\")\n",
    "print(results_kyle.head())"
   ]
  },
  {
   "cell_type": "markdown",
   "metadata": {},
   "source": [
    "Plot Price vs Order Flow"
   ]
  },
  {
   "cell_type": "code",
   "execution_count": 18,
   "metadata": {},
   "outputs": [
    {
     "data": {
      "image/png": "[encoded data removed]",
      "text/plain": [
       "<Figure size 800x500 with 1 Axes>"
      ]
     },
     "metadata": {},
     "output_type": "display_data"
    }
   ],
   "source": [
    "plt.figure(figsize=(8, 5))\n",
    "plt.scatter(results_kyle['Total Order Flow (omega)'], results_kyle['Price (p)'], alpha=0.7)\n",
    "plt.axhline(mu, color='red', linestyle='--', label=f'Prior E[v] = {mu}')\n",
    "plt.xlabel('Total Order Flow ($\\omega$)')\n",
    "plt.ylabel('Resulting Price (p)')\n",
    "plt.title(f'Kyle Model: Price vs. Order Flow ($\\lambda = {lambda_kyle}$)')\n",
    "# Plot the pricing rule line\n",
    "omega_range = np.linspace(results_kyle['Total Order Flow (omega)'].min(), results_kyle['Total Order Flow (omega)'].max(), 50)\n",
    "price_line = mu + lambda_kyle * omega_range\n",
    "plt.plot(omega_range, price_line, color='green', label='Pricing Rule: p = $\\mu + \\lambda \\omega$')\n",
    "plt.legend()\n",
    "plt.grid(True, linestyle='--', alpha=0.6)\n",
    "plt.show()"
   ]
  },
  {
   "cell_type": "markdown",
   "metadata": {},
   "source": [
    "**Kyle Model - Exercises:**\n",
    "\n",
    "1.  **Change Lambda:** Rerun the Kyle simulation with a higher and a lower value for `lambda_kyle`. How does the slope of the price vs. order flow relationship change? What does this imply about market liquidity in each case?\n",
    "2.  **Qualitative Dependencies:** Kyle's model shows that $\\lambda$ depends on the variance of noise trades ($Var(u)$) and the variance of the true value / information asymmetry ($Var(v)$).\n",
    "    * If noise trading *increases* (higher $Var(u)$), would you expect $\\lambda$ to increase or decrease? Why? (Hint: How easily can the informed trader hide?)\n",
    "    * If information asymmetry *increases* (higher $Var(v)$), would you expect $\\lambda$ to increase or decrease? Why? (Hint: How much risk does the market maker face from the informed trader?)\n",
    "3.  **Informed Trader's Perspective (Conceptual):** Imagine you are the informed trader and know the true value `v` will be 105, while `mu` is 100. You want to buy (`x > 0`). If `lambda` is very high, would you trade aggressively (large `x`) or cautiously (small `x`)? Why?"
   ]
  },
  {
   "cell_type": "markdown",
   "metadata": {},
   "source": [
    "## 3. The Glosten-Milgrom Model: Information & Spreads\n",
    "**Concept:** Explains the bid-ask spread as the market maker's compensation for *adverse selection risk*. The MM sets the Bid and Ask based on the expected value of the asset *conditional* on receiving a sell or buy order, respectively, using Bayesian updating.\n",
    "**Formula:**\n",
    "$ Ask_t = E[V | \\text{Buy Order at } t] $\n",
    "$ Bid_t = E[V | \\text{Sell Order at } t] $\n",
    "$ Spread = Ask_t - Bid_t $"
   ]
  },
  {
   "cell_type": "markdown",
   "metadata": {},
   "source": [
    "Calculate Glosten-Milgrom Bid/Ask based on parameters"
   ]
  },
  {
   "cell_type": "markdown",
   "metadata": {},
   "source": [
    "Parameters"
   ]
  },
  {
   "cell_type": "code",
   "execution_count": 146,
   "metadata": {},
   "outputs": [],
   "source": [
    "V_High = 102.0 # Potential high value of the asset\n",
    "V_Low = 98.0   # Potential low value of the asset\n",
    "prior_p_high = 0.75 # MM's initial belief P(V = V_High)"
   ]
  },
  {
   "cell_type": "code",
   "execution_count": 147,
   "metadata": {},
   "outputs": [],
   "source": [
    "pi = 0.4 # Probability the incoming trader is INFORMED\n",
    "# Probability the incoming trader is UNINFORMED = 1 - pi"
   ]
  },
  {
   "cell_type": "markdown",
   "metadata": {},
   "source": [
    "--- Calculate Conditional Probabilities Needed for Bayes ---"
   ]
  },
  {
   "cell_type": "markdown",
   "metadata": {},
   "source": [
    "P(Buy | Vh): Probability of a buy order if the true value is High\n",
    "  = P(Buy | Vh, Informed) * P(Informed | Vh) + P(Buy | Vh, Uninformed) * P(Uninformed | Vh)\n",
    "  = 1 * pi + 0.5 * (1 - pi) # Informed buys for sure, Uninformed buys 50%"
   ]
  },
  {
   "cell_type": "code",
   "execution_count": 148,
   "metadata": {},
   "outputs": [
    {
     "data": {
      "text/plain": [
       "0.7"
      ]
     },
     "execution_count": 148,
     "metadata": {},
     "output_type": "execute_result"
    }
   ],
   "source": [
    "P_Buy_given_Vh = 1.0 * pi + 0.5 * (1.0 - pi)\n",
    "P_Buy_given_Vh"
   ]
  },
  {
   "cell_type": "markdown",
   "metadata": {},
   "source": [
    "P(Buy | Vl): Probability of a buy order if the true value is Low\n",
    "  = P(Buy | Vl, Informed) * P(Informed | Vl) + P(Buy | Vl, Uninformed) * P(Uninformed | Vl)\n",
    "  = 0 * pi + 0.5 * (1 - pi) # Informed sells (doesn't buy), Uninformed buys 50%"
   ]
  },
  {
   "cell_type": "code",
   "execution_count": 149,
   "metadata": {},
   "outputs": [
    {
     "data": {
      "text/plain": [
       "0.3"
      ]
     },
     "execution_count": 149,
     "metadata": {},
     "output_type": "execute_result"
    }
   ],
   "source": [
    "P_Buy_given_Vl = 0.0 * pi + 0.5 * (1.0 - pi)\n",
    "P_Buy_given_Vl"
   ]
  },
  {
   "cell_type": "markdown",
   "metadata": {},
   "source": [
    "P(Sell | Vh): Probability of a sell order if the true value is High\n",
    "  = P(Sell | Vh, Informed) * P(Informed | Vh) + P(Sell | Vh, Uninformed) * P(Uninformed | Vh)\n",
    "  = 0 * pi + 0.5 * (1 - pi) # Informed buys (doesn't sell), Uninformed sells 50%"
   ]
  },
  {
   "cell_type": "code",
   "execution_count": 150,
   "metadata": {},
   "outputs": [],
   "source": [
    "P_Sell_given_Vh = 0.0 * pi + 0.5 * (1.0 - pi)"
   ]
  },
  {
   "cell_type": "markdown",
   "metadata": {},
   "source": [
    "P(Sell | Vl): Probability of a sell order if the true value is Low\n",
    "  = P(Sell | Vl, Informed) * P(Informed | Vl) + P(Sell | Vl, Uninformed) * P(Uninformed | Vl)\n",
    "  = 1 * pi + 0.5 * (1 - pi) # Informed sells for sure, Uninformed sells 50%"
   ]
  },
  {
   "cell_type": "code",
   "execution_count": 151,
   "metadata": {},
   "outputs": [],
   "source": [
    "P_Sell_given_Vl = 1.0 * pi + 0.5 * (1.0 - pi)"
   ]
  },
  {
   "cell_type": "code",
   "execution_count": 152,
   "metadata": {},
   "outputs": [],
   "source": [
    "prior_p_low = 1.0 - prior_p_high\n",
    "P_Buy = P_Buy_given_Vh * prior_p_high + P_Buy_given_Vl * prior_p_low\n",
    "P_Sell = P_Sell_given_Vh * prior_p_high + P_Sell_given_Vl * prior_p_low\n",
    "# Check: P_Buy + P_Sell should equal 1\n",
    "# print(f\"Check: P(Buy) + P(Sell) = {P_Buy + P_Sell:.2f}\")"
   ]
  },
  {
   "cell_type": "code",
   "execution_count": 153,
   "metadata": {},
   "outputs": [
    {
     "data": {
      "text/plain": [
       "0.5999999999999999"
      ]
     },
     "execution_count": 153,
     "metadata": {},
     "output_type": "execute_result"
    }
   ],
   "source": [
    "P_Buy"
   ]
  },
  {
   "cell_type": "code",
   "execution_count": 154,
   "metadata": {},
   "outputs": [
    {
     "data": {
      "text/plain": [
       "0.39999999999999997"
      ]
     },
     "execution_count": 154,
     "metadata": {},
     "output_type": "execute_result"
    }
   ],
   "source": [
    "P_Sell"
   ]
  },
  {
   "cell_type": "markdown",
   "metadata": {},
   "source": [
    "P(Vh | Buy) = P(Buy | Vh) * P(Vh) / P(Buy)"
   ]
  },
  {
   "cell_type": "code",
   "execution_count": 155,
   "metadata": {},
   "outputs": [],
   "source": [
    "P_Vh_given_Buy = (P_Buy_given_Vh * prior_p_high) / P_Buy if P_Buy > 0 else 0\n",
    "P_Vl_given_Buy = 1.0 - P_Vh_given_Buy # Or calculate: (P_Buy_given_Vl * prior_p_low) / P_Buy"
   ]
  },
  {
   "cell_type": "markdown",
   "metadata": {},
   "source": [
    "P(Vl | Sell) = P(Sell | Vl) * P(Vl) / P(Sell)"
   ]
  },
  {
   "cell_type": "code",
   "execution_count": 156,
   "metadata": {},
   "outputs": [],
   "source": [
    "P_Vl_given_Sell = (P_Sell_given_Vl * prior_p_low) / P_Sell if P_Sell > 0 else 0\n",
    "P_Vh_given_Sell = 1.0 - P_Vl_given_Sell # Or calculate: (P_Sell_given_Vh * prior_p_high) / P_Sell"
   ]
  },
  {
   "cell_type": "markdown",
   "metadata": {},
   "source": [
    "Ask = E[V | Buy] = Vh * P(Vh | Buy) + Vl * P(Vl | Buy)"
   ]
  },
  {
   "cell_type": "code",
   "execution_count": 157,
   "metadata": {},
   "outputs": [],
   "source": [
    "Ask = V_High * P_Vh_given_Buy + V_Low * P_Vl_given_Buy"
   ]
  },
  {
   "cell_type": "markdown",
   "metadata": {},
   "source": [
    "Bid = E[V | Sell] = Vh * P(Vh | Sell) + Vl * P(Vl | Sell)"
   ]
  },
  {
   "cell_type": "code",
   "execution_count": 158,
   "metadata": {},
   "outputs": [],
   "source": [
    "Bid = V_High * P_Vh_given_Sell + V_Low * P_Vl_given_Sell"
   ]
  },
  {
   "cell_type": "code",
   "execution_count": 159,
   "metadata": {},
   "outputs": [
    {
     "data": {
      "text/plain": [
       "100.25"
      ]
     },
     "execution_count": 159,
     "metadata": {},
     "output_type": "execute_result"
    }
   ],
   "source": [
    "Bid"
   ]
  },
  {
   "cell_type": "code",
   "execution_count": 160,
   "metadata": {},
   "outputs": [],
   "source": [
    "Spread = Ask - Bid"
   ]
  },
  {
   "cell_type": "markdown",
   "metadata": {},
   "source": [
    "--- Print Results ---"
   ]
  },
  {
   "cell_type": "code",
   "execution_count": 161,
   "metadata": {},
   "outputs": [
    {
     "name": "stdout",
     "output_type": "stream",
     "text": [
      "Glosten-Milgrom Model Parameters:\n",
      "  V_High = 102.00, V_Low = 98.00\n",
      "  Prior P(V=High) = 0.75\n",
      "  Probability Informed (pi) = 0.40\n",
      "------------------------------\n",
      "Calculated Quotes and Spread:\n",
      "  MM Posterior P(V=High | Buy Order) = 0.875\n",
      "  MM Posterior P(V=Low | Sell Order) = 0.438\n",
      "  Ask Price = E[V | Buy] = 101.5000\n",
      "  Bid Price = E[V | Sell] = 100.2500\n",
      "  Spread (Ask - Bid) = 1.2500\n"
     ]
    }
   ],
   "source": [
    "print(\"Glosten-Milgrom Model Parameters:\")\n",
    "print(f\"  V_High = {V_High:.2f}, V_Low = {V_Low:.2f}\")\n",
    "print(f\"  Prior P(V=High) = {prior_p_high:.2f}\")\n",
    "print(f\"  Probability Informed (pi) = {pi:.2f}\")\n",
    "print(\"-\" * 30)\n",
    "print(\"Calculated Quotes and Spread:\")\n",
    "print(f\"  MM Posterior P(V=High | Buy Order) = {P_Vh_given_Buy:.3f}\")\n",
    "print(f\"  MM Posterior P(V=Low | Sell Order) = {P_Vl_given_Sell:.3f}\")\n",
    "print(f\"  Ask Price = E[V | Buy] = {Ask:.4f}\")\n",
    "print(f\"  Bid Price = E[V | Sell] = {Bid:.4f}\")\n",
    "print(f\"  Spread (Ask - Bid) = {Spread:.4f}\")"
   ]
  },
  {
   "cell_type": "markdown",
   "metadata": {},
   "source": [
    "**Glosten-Milgrom Model - Exercises:**\n",
    "\n",
    "1.  **Vary Information Asymmetry:** Keep `pi` constant (e.g., at 0.2). Recalculate the Bid, Ask, and Spread using a wider difference between `V_High` and `V_Low` (e.g., 105 and 95) and a narrower difference (e.g., 101 and 99). How does the spread change? Explain why.\n",
    "2.  **Vary Probability of Informed Trading:** Keep `V_High` and `V_Low` constant (e.g., at 102 and 98). Recalculate the Bid, Ask, and Spread using a higher `pi` (e.g., 0.5) and a lower `pi` (e.g., 0.05). How does the spread change? Explain the intuition based on the market maker's risk.\n",
    "3.  **Updating Beliefs:** Suppose the MM posts the Bid/Ask calculated above. A **Buy** order arrives and executes at the Ask price. According to the model, what should the MM's *new* prior belief `P(V = V_High)` be for the *next* trade? (Hint: It's the posterior calculated after observing the first buy). If the *next* trade is a **Sell**, how would the MM update their belief again starting from this new prior?"
   ]
  },
  {
   "cell_type": "markdown",
   "metadata": {},
   "source": [
    "## 4. Continuous Double Auction (CDA) & Limit Order Book (LOB)\n",
    "\n",
    "**Concept:** Simulates the core mechanics of a modern exchange: maintaining a Limit Order Book (LOB), processing incoming Market and Limit orders according to Price-Time priority."
   ]
  },
  {
   "cell_type": "code",
   "execution_count": 32,
   "metadata": {},
   "outputs": [],
   "source": [
    "class LimitOrderBook:\n",
    "    def __init__(self):\n",
    "        # Using lists of dictionaries, sorted explicitly\n",
    "        # For larger scale, sorted data structures (like sortedcontainers) or DataFrames are better\n",
    "        self.bids = [] # List of {'price': float, 'size': int, 'time': int} sorted P descending, T ascending\n",
    "        self.asks = [] # List of {'price': float, 'size': int, 'time': int} sorted P ascending, T ascending\n",
    "        self.trade_log = []\n",
    "        self.time = 0 # Simple discrete time counter\n",
    "    def _get_next_time(self):\n",
    "        self.time += 1\n",
    "        return self.time\n",
    "    def _add_order(self, book, price, size, timestamp, is_bid):\n",
    "        order = {'price': price, 'size': size, 'time': timestamp}\n",
    "        book.append(order)\n",
    "        # Sort: Bids P desc, T asc; Asks P asc, T asc\n",
    "        if is_bid:\n",
    "            book.sort(key=lambda x: (-x['price'], x['time']))\n",
    "        else:\n",
    "            book.sort(key=lambda x: (x['price'], x['time']))\n",
    "    def _log_trade(self, price, size, incoming_order_type, aggressor_side):\n",
    "         self.trade_log.append({\n",
    "             'time': self.time,\n",
    "             'price': price,\n",
    "             'size': size,\n",
    "             'incoming_order': incoming_order_type,\n",
    "             'aggressor': aggressor_side # 'BUY' or 'SELL'\n",
    "         })\n",
    "         print(f\"--- TRADE @ T={self.time}: {size} shares at {price:.2f} ---\")\n",
    "         \n",
    "    def limit_order(self, side, price, size):\n",
    "        timestamp = self._get_next_time()\n",
    "        print(f\"\\n>> T={timestamp}: Incoming LIMIT {side} order: {size} @ {price:.2f}\")\n",
    "        if side == 'BUY':\n",
    "            # Check if executable against asks\n",
    "            while size > 0 and self.asks and price >= self.asks[0]['price']:\n",
    "                best_ask = self.asks[0]\n",
    "                trade_size = min(size, best_ask['size'])\n",
    "                self._log_trade(best_ask['price'], trade_size, 'LIMIT BUY', 'BUY')\n",
    "                size -= trade_size\n",
    "                best_ask['size'] -= trade_size\n",
    "                if best_ask['size'] == 0:\n",
    "                    self.asks.pop(0) # Remove filled ask\n",
    "\n",
    "            # If order not fully filled, add remaining to bids\n",
    "            if size > 0:\n",
    "                print(f\"   Order partially filled or non-executable. Adding {size} @ {price:.2f} to Bids.\")\n",
    "                self._add_order(self.bids, price, size, timestamp, is_bid=True)\n",
    "        elif side == 'SELL':\n",
    "            # Check if executable against bids\n",
    "            while size > 0 and self.bids and price <= self.bids[0]['price']:\n",
    "                best_bid = self.bids[0]\n",
    "                trade_size = min(size, best_bid['size'])\n",
    "                self._log_trade(best_bid['price'], trade_size, 'LIMIT SELL', 'SELL')\n",
    "                size -= trade_size\n",
    "                best_bid['size'] -= trade_size\n",
    "                if best_bid['size'] == 0:\n",
    "                    self.bids.pop(0) # Remove filled bid\n",
    "\n",
    "            # If order not fully filled, add remaining to asks\n",
    "            if size > 0:\n",
    "                print(f\"   Order partially filled or non-executable. Adding {size} @ {price:.2f} to Asks.\")\n",
    "                self._add_order(self.asks, price, size, timestamp, is_bid=False)\n",
    "        self.display_lob()\n",
    "    \n",
    "    def market_order(self, side, size):\n",
    "        timestamp = self._get_next_time()\n",
    "        print(f\"\\n>> T={timestamp}: Incoming MARKET {side} order: {size} shares\")\n",
    "        original_size = size\n",
    "        if side == 'BUY':\n",
    "             while size > 0 and self.asks:\n",
    "                best_ask = self.asks[0]\n",
    "                trade_size = min(size, best_ask['size'])\n",
    "                self._log_trade(best_ask['price'], trade_size, 'MARKET BUY', 'BUY')\n",
    "                size -= trade_size\n",
    "                best_ask['size'] -= trade_size\n",
    "                if best_ask['size'] == 0:\n",
    "                    self.asks.pop(0) # Remove filled ask\n",
    "             if size > 0:\n",
    "                 print(f\"   Market order could not be fully filled. {size} shares remaining unfilled.\")\n",
    "        elif side == 'SELL':\n",
    "            while size > 0 and self.bids:\n",
    "                best_bid = self.bids[0]\n",
    "                trade_size = min(size, best_bid['size'])\n",
    "                self._log_trade(best_bid['price'], trade_size, 'MARKET SELL', 'SELL')\n",
    "                size -= trade_size\n",
    "                best_bid['size'] -= trade_size\n",
    "                if best_bid['size'] == 0:\n",
    "                    self.bids.pop(0) # Remove filled bid\n",
    "            if size > 0:\n",
    "                 print(f\"   Market order could not be fully filled. {size} shares remaining unfilled.\")\n",
    "        self.display_lob()\n",
    "    def display_lob(self, depth=5):\n",
    "        print(\"\\n--- Current Limit Order Book ---\")\n",
    "        print(\"         ASKS (Price / Size / Time)\")\n",
    "        # Display asks from top (best ask) down, reversed for display\n",
    "        for i in range(min(depth, len(self.asks)) -1, -1, -1):\n",
    "             order = self.asks[i]\n",
    "             print(f\"Level {min(depth, len(self.asks)) - i -1 }:    {order['price']:>6.2f} / {order['size']:<5d} / T={order['time']}\")\n",
    "        print(\"-\" * 30)\n",
    "        best_bid = self.bids[0]['price'] if self.bids else 'N/A'\n",
    "        best_ask = self.asks[0]['price'] if self.asks else 'N/A'\n",
    "        spread = self.asks[0]['price'] - self.bids[0]['price'] if self.bids and self.asks else 'N/A'\n",
    "        print(f\"BBO:      {best_bid} / {best_ask}   Spread: {spread}\")\n",
    "        print(\"-\" * 30)\n",
    "        print(\"         BIDS (Price / Size / Time)\")\n",
    "        # Display bids from top (best bid) down\n",
    "        for i in range(min(depth, len(self.bids))):\n",
    "            order = self.bids[i]\n",
    "            print(f\"Level {i}:    {order['price']:>6.2f} / {order['size']:<5d} / T={order['time']}\")\n",
    "        print(\"=\" * 30)"
   ]
  },
  {
   "cell_type": "markdown",
   "metadata": {},
   "source": [
    "--- Simulation ---"
   ]
  },
  {
   "cell_type": "code",
   "execution_count": 33,
   "metadata": {},
   "outputs": [],
   "source": [
    "lob = LimitOrderBook()"
   ]
  },
  {
   "cell_type": "markdown",
   "metadata": {},
   "source": [
    "Populate the book with initial orders (match presentation example)"
   ]
  },
  {
   "cell_type": "code",
   "execution_count": 34,
   "metadata": {},
   "outputs": [],
   "source": [
    "lob._add_order(lob.bids, 10.00, 200, lob._get_next_time(), is_bid=True) # T1\n",
    "lob._add_order(lob.bids, 9.99, 150, lob._get_next_time(), is_bid=True)  # T2\n",
    "lob._add_order(lob.bids, 9.98, 300, lob._get_next_time(), is_bid=True)  # T3\n",
    "lob._add_order(lob.asks, 10.01, 100, lob._get_next_time(), is_bid=False) # T4\n",
    "lob._add_order(lob.asks, 10.02, 400, lob._get_next_time(), is_bid=False) # T5\n",
    "lob._add_order(lob.asks, 10.03, 250, lob._get_next_time(), is_bid=False) # T6"
   ]
  },
  {
   "cell_type": "code",
   "execution_count": 35,
   "metadata": {},
   "outputs": [
    {
     "name": "stdout",
     "output_type": "stream",
     "text": [
      "Initial LOB State:\n",
      "\n",
      "--- Current Limit Order Book ---\n",
      "         ASKS (Price / Size / Time)\n",
      "Level 0:     10.03 / 250   / T=6\n",
      "Level 1:     10.02 / 400   / T=5\n",
      "Level 2:     10.01 / 100   / T=4\n",
      "------------------------------\n",
      "BBO:      10.0 / 10.01   Spread: 0.009999999999999787\n",
      "------------------------------\n",
      "         BIDS (Price / Size / Time)\n",
      "Level 0:     10.00 / 200   / T=1\n",
      "Level 1:      9.99 / 150   / T=2\n",
      "Level 2:      9.98 / 300   / T=3\n",
      "==============================\n"
     ]
    }
   ],
   "source": [
    "print(\"Initial LOB State:\")\n",
    "lob.display_lob()"
   ]
  },
  {
   "cell_type": "markdown",
   "metadata": {},
   "source": [
    "Event 1: Market Sell 150 (T7)"
   ]
  },
  {
   "cell_type": "code",
   "execution_count": 36,
   "metadata": {},
   "outputs": [
    {
     "name": "stdout",
     "output_type": "stream",
     "text": [
      "\n",
      ">> T=7: Incoming MARKET SELL order: 150 shares\n",
      "--- TRADE @ T=7: 150 shares at 10.00 ---\n",
      "\n",
      "--- Current Limit Order Book ---\n",
      "         ASKS (Price / Size / Time)\n",
      "Level 0:     10.03 / 250   / T=6\n",
      "Level 1:     10.02 / 400   / T=5\n",
      "Level 2:     10.01 / 100   / T=4\n",
      "------------------------------\n",
      "BBO:      10.0 / 10.01   Spread: 0.009999999999999787\n",
      "------------------------------\n",
      "         BIDS (Price / Size / Time)\n",
      "Level 0:     10.00 / 50    / T=1\n",
      "Level 1:      9.99 / 150   / T=2\n",
      "Level 2:      9.98 / 300   / T=3\n",
      "==============================\n"
     ]
    }
   ],
   "source": [
    "lob.market_order('SELL', 150)"
   ]
  },
  {
   "cell_type": "markdown",
   "metadata": {},
   "source": [
    "Event 2: Limit Buy 200 @ 10.02 (T8)"
   ]
  },
  {
   "cell_type": "code",
   "execution_count": 37,
   "metadata": {},
   "outputs": [
    {
     "name": "stdout",
     "output_type": "stream",
     "text": [
      "\n",
      ">> T=8: Incoming LIMIT BUY order: 200 @ 10.02\n",
      "--- TRADE @ T=8: 100 shares at 10.01 ---\n",
      "--- TRADE @ T=8: 100 shares at 10.02 ---\n",
      "\n",
      "--- Current Limit Order Book ---\n",
      "         ASKS (Price / Size / Time)\n",
      "Level 0:     10.03 / 250   / T=6\n",
      "Level 1:     10.02 / 300   / T=5\n",
      "------------------------------\n",
      "BBO:      10.0 / 10.02   Spread: 0.019999999999999574\n",
      "------------------------------\n",
      "         BIDS (Price / Size / Time)\n",
      "Level 0:     10.00 / 50    / T=1\n",
      "Level 1:      9.99 / 150   / T=2\n",
      "Level 2:      9.98 / 300   / T=3\n",
      "==============================\n"
     ]
    }
   ],
   "source": [
    "lob.limit_order('BUY', 10.02, 200)"
   ]
  },
  {
   "cell_type": "code",
   "execution_count": 38,
   "metadata": {},
   "outputs": [
    {
     "name": "stdout",
     "output_type": "stream",
     "text": [
      "\n",
      "--- Trade Log ---\n",
      "   time  price  size incoming_order aggressor\n",
      "0     7  10.00   150    MARKET SELL      SELL\n",
      "1     8  10.01   100      LIMIT BUY       BUY\n",
      "2     8  10.02   100      LIMIT BUY       BUY\n"
     ]
    }
   ],
   "source": [
    "print(\"\\n--- Trade Log ---\")\n",
    "trade_df = pd.DataFrame(lob.trade_log)\n",
    "print(trade_df)"
   ]
  },
  {
   "cell_type": "markdown",
   "metadata": {},
   "source": [
    "**CDA / LOB - Exercises:**\n",
    "\n",
    "1.  **More Orders:** Add more events to the simulation:\n",
    "    * A limit sell order arrives for 50 shares at 10.00. What happens?\n",
    "    * A market buy order arrives for 500 shares. How much does it execute, and at what prices (calculate the average execution price)? What does the LOB look like afterwards?\n",
    "    * A limit buy order arrives for 100 shares at 9.97. Where does it sit in the book?\n",
    "2.  **Order Cancellation:** Modify the `LimitOrderBook` class to include a `cancel_order(order_id)` method. You would need to assign unique IDs to orders when they are added and store them differently (e.g., dictionaries keyed by ID) to allow efficient cancellation. Simulate adding an order and then cancelling it.\n",
    "3.  **Market Depth:** Define a function `calculate_depth(lob, levels)` that returns the total size available within the first `levels` price levels on both the bid and ask side. Calculate the depth for 1 level (the BBO sizes) and 3 levels after the initial LOB setup and after Event 2 in the simulation."
   ]
  },
  {
   "cell_type": "markdown",
   "metadata": {},
   "source": [
    "## Conclusion\n",
    "\n",
    "This notebook provided basic implementations and visualizations for the Roll, Kyle, and Glosten-Milgrom models, as well as a simple simulation of a Continuous Double Auction mechanism with a Limit Order Book. These examples illustrate the core mechanics discussed in the presentation. The exercises encourage exploring the models' sensitivities and the LOB dynamics further."
   ]
  }
 ],
 "metadata": {
  "kernelspec": {
   "display_name": "venv",
   "language": "python",
   "name": "python3"
  },
  "language_info": {
   "codemirror_mode": {
    "name": "ipython",
    "version": 3
   },
   "file_extension": ".py",
   "mimetype": "text/x-python",
   "name": "python",
   "nbconvert_exporter": "python",
   "pygments_lexer": "ipython3",
   "version": "3.10.16"
  }
 },
 "nbformat": 4,
 "nbformat_minor": 2
}
