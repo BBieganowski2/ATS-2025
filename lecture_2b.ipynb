{
 "cells": [
  {
   "cell_type": "code",
   "execution_count": 40,
   "metadata": {},
   "outputs": [],
   "source": [
    "%matplotlib qt\n",
    "import pandas as pd\n",
    "import numpy as np\n",
    "import matplotlib.pyplot as plt\n",
    "\n",
    "plt.style.use('dark_background')"
   ]
  },
  {
   "cell_type": "code",
   "execution_count": 41,
   "metadata": {},
   "outputs": [],
   "source": [
    "ob = pd.read_csv('activity_logs.csv', index_col='timestamp')\n",
    "#ob = ob[ob['product'] == instrument]\n",
    "#ob.head()"
   ]
  },
  {
   "cell_type": "code",
   "execution_count": 42,
   "metadata": {},
   "outputs": [
    {
     "data": {
      "text/plain": [
       "<Axes: xlabel='timestamp'>"
      ]
     },
     "execution_count": 42,
     "metadata": {},
     "output_type": "execute_result"
    }
   ],
   "source": [
    "ob.query('product == \"CHOCOLATE\"')['bid_price_1'].plot()"
   ]
  },
  {
   "cell_type": "code",
   "execution_count": 43,
   "metadata": {},
   "outputs": [
    {
     "data": {
      "text/plain": [
       "[<matplotlib.lines.Line2D at 0x74c2b0eae140>]"
      ]
     },
     "execution_count": 43,
     "metadata": {},
     "output_type": "execute_result"
    }
   ],
   "source": [
    "plt.plot(ob.query('product == \"STRAWBERRIES\"')['bid_price_1'])"
   ]
  },
  {
   "cell_type": "code",
   "execution_count": 44,
   "metadata": {},
   "outputs": [
    {
     "data": {
      "text/plain": [
       "<Axes: xlabel='timestamp'>"
      ]
     },
     "execution_count": 44,
     "metadata": {},
     "output_type": "execute_result"
    }
   ],
   "source": [
    "prices = ob.reset_index().pivot(index='timestamp', columns='product', values='bid_price_1')\n",
    "prices.plot()"
   ]
  },
  {
   "cell_type": "code",
   "execution_count": 45,
   "metadata": {},
   "outputs": [],
   "source": [
    "prices['CHOCOLATE_component'] = prices['CHOCOLATE']*4\n",
    "prices['STRAWBERRY_component'] = prices['STRAWBERRIES']*6\n",
    "prices['ROSES_component'] = prices['ROSES']"
   ]
  },
  {
   "cell_type": "code",
   "execution_count": 46,
   "metadata": {},
   "outputs": [],
   "source": [
    "prices['BASKET_implied'] = prices['CHOCOLATE_component']+prices['STRAWBERRY_component']+prices['ROSES_component']"
   ]
  },
  {
   "cell_type": "code",
   "execution_count": 48,
   "metadata": {},
   "outputs": [
    {
     "data": {
      "text/plain": [
       "<Axes: xlabel='timestamp'>"
      ]
     },
     "execution_count": 48,
     "metadata": {},
     "output_type": "execute_result"
    }
   ],
   "source": [
    "prices[['GIFT_BASKET', 'BASKET_implied']].plot()"
   ]
  },
  {
   "cell_type": "code",
   "execution_count": 49,
   "metadata": {},
   "outputs": [
    {
     "data": {
      "text/plain": [
       "<Axes: xlabel='timestamp'>"
      ]
     },
     "execution_count": 49,
     "metadata": {},
     "output_type": "execute_result"
    }
   ],
   "source": [
    "(prices['GIFT_BASKET'] - prices['BASKET_implied']).plot()"
   ]
  },
  {
   "cell_type": "code",
   "execution_count": 24,
   "metadata": {},
   "outputs": [
    {
     "data": {
      "text/html": [
       "<div>\n",
       "<style scoped>\n",
       "    .dataframe tbody tr th:only-of-type {\n",
       "        vertical-align: middle;\n",
       "    }\n",
       "\n",
       "    .dataframe tbody tr th {\n",
       "        vertical-align: top;\n",
       "    }\n",
       "\n",
       "    .dataframe thead th {\n",
       "        text-align: right;\n",
       "    }\n",
       "</style>\n",
       "<table border=\"1\" class=\"dataframe\">\n",
       "  <thead>\n",
       "    <tr style=\"text-align: right;\">\n",
       "      <th></th>\n",
       "      <th>Unnamed: 0</th>\n",
       "      <th>buyer</th>\n",
       "      <th>seller</th>\n",
       "      <th>symbol</th>\n",
       "      <th>currency</th>\n",
       "      <th>price</th>\n",
       "      <th>quantity</th>\n",
       "    </tr>\n",
       "    <tr>\n",
       "      <th>timestamp</th>\n",
       "      <th></th>\n",
       "      <th></th>\n",
       "      <th></th>\n",
       "      <th></th>\n",
       "      <th></th>\n",
       "      <th></th>\n",
       "      <th></th>\n",
       "    </tr>\n",
       "  </thead>\n",
       "  <tbody>\n",
       "    <tr>\n",
       "      <th>200</th>\n",
       "      <td>0</td>\n",
       "      <td>Remy</td>\n",
       "      <td>Vinnie</td>\n",
       "      <td>STRAWBERRIES</td>\n",
       "      <td>SEASHELLS</td>\n",
       "      <td>4031</td>\n",
       "      <td>9</td>\n",
       "    </tr>\n",
       "    <tr>\n",
       "      <th>200</th>\n",
       "      <td>1</td>\n",
       "      <td>Vinnie</td>\n",
       "      <td>Vladimir</td>\n",
       "      <td>STRAWBERRIES</td>\n",
       "      <td>SEASHELLS</td>\n",
       "      <td>4029</td>\n",
       "      <td>11</td>\n",
       "    </tr>\n",
       "    <tr>\n",
       "      <th>700</th>\n",
       "      <td>2</td>\n",
       "      <td>Vinnie</td>\n",
       "      <td>Vladimir</td>\n",
       "      <td>STRAWBERRIES</td>\n",
       "      <td>SEASHELLS</td>\n",
       "      <td>4030</td>\n",
       "      <td>6</td>\n",
       "    </tr>\n",
       "    <tr>\n",
       "      <th>1000</th>\n",
       "      <td>3</td>\n",
       "      <td>Vinnie</td>\n",
       "      <td>SUBMISSION</td>\n",
       "      <td>STRAWBERRIES</td>\n",
       "      <td>SEASHELLS</td>\n",
       "      <td>8055</td>\n",
       "      <td>4</td>\n",
       "    </tr>\n",
       "    <tr>\n",
       "      <th>1000</th>\n",
       "      <td>4</td>\n",
       "      <td>Remy</td>\n",
       "      <td>Vinnie</td>\n",
       "      <td>CHOCOLATE</td>\n",
       "      <td>SEASHELLS</td>\n",
       "      <td>7991</td>\n",
       "      <td>7</td>\n",
       "    </tr>\n",
       "  </tbody>\n",
       "</table>\n",
       "</div>"
      ],
      "text/plain": [
       "           Unnamed: 0   buyer      seller        symbol   currency  price  \\\n",
       "timestamp                                                                   \n",
       "200                 0    Remy      Vinnie  STRAWBERRIES  SEASHELLS   4031   \n",
       "200                 1  Vinnie    Vladimir  STRAWBERRIES  SEASHELLS   4029   \n",
       "700                 2  Vinnie    Vladimir  STRAWBERRIES  SEASHELLS   4030   \n",
       "1000                3  Vinnie  SUBMISSION  STRAWBERRIES  SEASHELLS   8055   \n",
       "1000                4    Remy      Vinnie     CHOCOLATE  SEASHELLS   7991   \n",
       "\n",
       "           quantity  \n",
       "timestamp            \n",
       "200               9  \n",
       "200              11  \n",
       "700               6  \n",
       "1000              4  \n",
       "1000              7  "
      ]
     },
     "execution_count": 24,
     "metadata": {},
     "output_type": "execute_result"
    }
   ],
   "source": [
    "trades = pd.read_csv('trades.csv', index_col='timestamp')\n",
    "trades.head()\n"
   ]
  },
  {
   "cell_type": "code",
   "execution_count": null,
   "metadata": {},
   "outputs": [],
   "source": []
  },
  {
   "cell_type": "code",
   "execution_count": 25,
   "metadata": {},
   "outputs": [
    {
     "data": {
      "text/plain": [
       "<BarContainer object of 860 artists>"
      ]
     },
     "execution_count": 25,
     "metadata": {},
     "output_type": "execute_result"
    }
   ],
   "source": [
    "series = trades.groupby('price')['price'].count()\n",
    "plt.figure()\n",
    "plt.bar(series.index, series)"
   ]
  },
  {
   "cell_type": "code",
   "execution_count": 26,
   "metadata": {},
   "outputs": [],
   "source": [
    "my_buys = trades[trades['buyer'] == 'SUBMISSION']\n",
    "my_sells = trades[trades['seller'] == 'SUBMISSION']\n",
    "other_trades = trades[(trades['buyer'] != 'SUBMISSION') & (trades['seller'] != 'SUBMISSION')]"
   ]
  },
  {
   "cell_type": "code",
   "execution_count": 31,
   "metadata": {},
   "outputs": [
    {
     "data": {
      "text/html": [
       "<div>\n",
       "<style scoped>\n",
       "    .dataframe tbody tr th:only-of-type {\n",
       "        vertical-align: middle;\n",
       "    }\n",
       "\n",
       "    .dataframe tbody tr th {\n",
       "        vertical-align: top;\n",
       "    }\n",
       "\n",
       "    .dataframe thead th {\n",
       "        text-align: right;\n",
       "    }\n",
       "</style>\n",
       "<table border=\"1\" class=\"dataframe\">\n",
       "  <thead>\n",
       "    <tr style=\"text-align: right;\">\n",
       "      <th></th>\n",
       "      <th>Unnamed: 0</th>\n",
       "      <th>buyer</th>\n",
       "      <th>seller</th>\n",
       "      <th>symbol</th>\n",
       "      <th>currency</th>\n",
       "      <th>price</th>\n",
       "      <th>quantity</th>\n",
       "    </tr>\n",
       "    <tr>\n",
       "      <th>timestamp</th>\n",
       "      <th></th>\n",
       "      <th></th>\n",
       "      <th></th>\n",
       "      <th></th>\n",
       "      <th></th>\n",
       "      <th></th>\n",
       "      <th></th>\n",
       "    </tr>\n",
       "  </thead>\n",
       "  <tbody>\n",
       "    <tr>\n",
       "      <th>1000</th>\n",
       "      <td>3</td>\n",
       "      <td>Vinnie</td>\n",
       "      <td>SUBMISSION</td>\n",
       "      <td>STRAWBERRIES</td>\n",
       "      <td>SEASHELLS</td>\n",
       "      <td>8055</td>\n",
       "      <td>4</td>\n",
       "    </tr>\n",
       "    <tr>\n",
       "      <th>1100</th>\n",
       "      <td>5</td>\n",
       "      <td>Remy</td>\n",
       "      <td>SUBMISSION</td>\n",
       "      <td>STRAWBERRIES</td>\n",
       "      <td>SEASHELLS</td>\n",
       "      <td>8056</td>\n",
       "      <td>5</td>\n",
       "    </tr>\n",
       "    <tr>\n",
       "      <th>1500</th>\n",
       "      <td>7</td>\n",
       "      <td>Vinnie</td>\n",
       "      <td>SUBMISSION</td>\n",
       "      <td>STRAWBERRIES</td>\n",
       "      <td>SEASHELLS</td>\n",
       "      <td>8056</td>\n",
       "      <td>6</td>\n",
       "    </tr>\n",
       "    <tr>\n",
       "      <th>1900</th>\n",
       "      <td>13</td>\n",
       "      <td>Remy</td>\n",
       "      <td>SUBMISSION</td>\n",
       "      <td>STRAWBERRIES</td>\n",
       "      <td>SEASHELLS</td>\n",
       "      <td>8056</td>\n",
       "      <td>2</td>\n",
       "    </tr>\n",
       "    <tr>\n",
       "      <th>2100</th>\n",
       "      <td>14</td>\n",
       "      <td>Vinnie</td>\n",
       "      <td>SUBMISSION</td>\n",
       "      <td>STRAWBERRIES</td>\n",
       "      <td>SEASHELLS</td>\n",
       "      <td>8056</td>\n",
       "      <td>6</td>\n",
       "    </tr>\n",
       "    <tr>\n",
       "      <th>...</th>\n",
       "      <td>...</td>\n",
       "      <td>...</td>\n",
       "      <td>...</td>\n",
       "      <td>...</td>\n",
       "      <td>...</td>\n",
       "      <td>...</td>\n",
       "      <td>...</td>\n",
       "    </tr>\n",
       "    <tr>\n",
       "      <th>252200</th>\n",
       "      <td>1008</td>\n",
       "      <td>Rhianna</td>\n",
       "      <td>SUBMISSION</td>\n",
       "      <td>ROSES</td>\n",
       "      <td>SEASHELLS</td>\n",
       "      <td>28956</td>\n",
       "      <td>1</td>\n",
       "    </tr>\n",
       "    <tr>\n",
       "      <th>255400</th>\n",
       "      <td>1020</td>\n",
       "      <td>Vinnie</td>\n",
       "      <td>SUBMISSION</td>\n",
       "      <td>ROSES</td>\n",
       "      <td>SEASHELLS</td>\n",
       "      <td>28975</td>\n",
       "      <td>1</td>\n",
       "    </tr>\n",
       "    <tr>\n",
       "      <th>258300</th>\n",
       "      <td>1026</td>\n",
       "      <td>Vinnie</td>\n",
       "      <td>SUBMISSION</td>\n",
       "      <td>ROSES</td>\n",
       "      <td>SEASHELLS</td>\n",
       "      <td>29035</td>\n",
       "      <td>1</td>\n",
       "    </tr>\n",
       "    <tr>\n",
       "      <th>258700</th>\n",
       "      <td>1028</td>\n",
       "      <td>Vladimir</td>\n",
       "      <td>SUBMISSION</td>\n",
       "      <td>ROSES</td>\n",
       "      <td>SEASHELLS</td>\n",
       "      <td>29034</td>\n",
       "      <td>1</td>\n",
       "    </tr>\n",
       "    <tr>\n",
       "      <th>264900</th>\n",
       "      <td>1048</td>\n",
       "      <td>Vladimir</td>\n",
       "      <td>SUBMISSION</td>\n",
       "      <td>ROSES</td>\n",
       "      <td>SEASHELLS</td>\n",
       "      <td>29042</td>\n",
       "      <td>1</td>\n",
       "    </tr>\n",
       "  </tbody>\n",
       "</table>\n",
       "<p>264 rows × 7 columns</p>\n",
       "</div>"
      ],
      "text/plain": [
       "           Unnamed: 0     buyer      seller        symbol   currency  price  \\\n",
       "timestamp                                                                     \n",
       "1000                3    Vinnie  SUBMISSION  STRAWBERRIES  SEASHELLS   8055   \n",
       "1100                5      Remy  SUBMISSION  STRAWBERRIES  SEASHELLS   8056   \n",
       "1500                7    Vinnie  SUBMISSION  STRAWBERRIES  SEASHELLS   8056   \n",
       "1900               13      Remy  SUBMISSION  STRAWBERRIES  SEASHELLS   8056   \n",
       "2100               14    Vinnie  SUBMISSION  STRAWBERRIES  SEASHELLS   8056   \n",
       "...               ...       ...         ...           ...        ...    ...   \n",
       "252200           1008   Rhianna  SUBMISSION         ROSES  SEASHELLS  28956   \n",
       "255400           1020    Vinnie  SUBMISSION         ROSES  SEASHELLS  28975   \n",
       "258300           1026    Vinnie  SUBMISSION         ROSES  SEASHELLS  29035   \n",
       "258700           1028  Vladimir  SUBMISSION         ROSES  SEASHELLS  29034   \n",
       "264900           1048  Vladimir  SUBMISSION         ROSES  SEASHELLS  29042   \n",
       "\n",
       "           quantity  \n",
       "timestamp            \n",
       "1000              4  \n",
       "1100              5  \n",
       "1500              6  \n",
       "1900              2  \n",
       "2100              6  \n",
       "...             ...  \n",
       "252200            1  \n",
       "255400            1  \n",
       "258300            1  \n",
       "258700            1  \n",
       "264900            1  \n",
       "\n",
       "[264 rows x 7 columns]"
      ]
     },
     "execution_count": 31,
     "metadata": {},
     "output_type": "execute_result"
    }
   ],
   "source": [
    "my_sells"
   ]
  },
  {
   "cell_type": "code",
   "execution_count": 33,
   "metadata": {},
   "outputs": [],
   "source": [
    "sells_choc = my_sells.query('symbol == \"CHOCOLATE\"')\n",
    "buys_choc = my_buys.query('symbol == \"CHOCOLATE\"')"
   ]
  },
  {
   "cell_type": "code",
   "execution_count": 37,
   "metadata": {},
   "outputs": [
    {
     "data": {
      "text/plain": [
       "<Axes: xlabel='timestamp'>"
      ]
     },
     "execution_count": 37,
     "metadata": {},
     "output_type": "execute_result"
    }
   ],
   "source": [
    "(-sells_choc['quantity']).cumsum().plot()"
   ]
  },
  {
   "cell_type": "code",
   "execution_count": 9,
   "metadata": {},
   "outputs": [],
   "source": [
    "plt.figure(figsize=(10, 5))\n",
    "plt.plot(ob['bid_price_1'], label='bid_price')\n",
    "plt.plot(ob['ask_price_1'], label='ask_price')\n",
    "plt.scatter(my_buys.index, my_buys['price'], label='my_buys', color='green', marker='^')\n",
    "plt.scatter(my_sells.index, my_sells['price'], label='my_sells', color='red', marker='v')\n",
    "plt.scatter(other_trades.index, other_trades['price'], label='other_trades', color='blue', marker='o')\n",
    "plt.legend()\n",
    "plt.gca().get_yaxis().get_major_formatter().set_useOffset(False)\n",
    "plt.show()\n",
    "\n"
   ]
  },
  {
   "cell_type": "code",
   "execution_count": 10,
   "metadata": {},
   "outputs": [
    {
     "data": {
      "text/plain": [
       "[<matplotlib.lines.Line2D at 0x76471c626fb0>]"
      ]
     },
     "execution_count": 10,
     "metadata": {},
     "output_type": "execute_result"
    }
   ],
   "source": [
    "amethysts_profit = ob[ob['product'] == 'AMETHYSTS']['profit_and_loss']\n",
    "plt.figure()\n",
    "plt.plot(amethysts_profit)"
   ]
  },
  {
   "cell_type": "code",
   "execution_count": 11,
   "metadata": {},
   "outputs": [
    {
     "name": "stderr",
     "output_type": "stream",
     "text": [
      "/tmp/ipykernel_5865/3944868899.py:2: SettingWithCopyWarning: \n",
      "A value is trying to be set on a copy of a slice from a DataFrame.\n",
      "Try using .loc[row_indexer,col_indexer] = value instead\n",
      "\n",
      "See the caveats in the documentation: https://pandas.pydata.org/pandas-docs/stable/user_guide/indexing.html#returning-a-view-versus-a-copy\n",
      "  my_trades['position'] = (my_trades['quantity']*((my_trades['buyer'] == 'SUBMISSION')*2-1)).cumsum()\n"
     ]
    },
    {
     "data": {
      "text/plain": [
       "[<matplotlib.lines.Line2D at 0x76471c0add80>]"
      ]
     },
     "execution_count": 11,
     "metadata": {},
     "output_type": "execute_result"
    }
   ],
   "source": [
    "my_trades = trades[(trades['buyer'] == 'SUBMISSION') | (trades['seller'] == 'SUBMISSION')]\n",
    "my_trades['position'] = (my_trades['quantity']*((my_trades['buyer'] == 'SUBMISSION')*2-1)).cumsum()\n",
    "plt.figure()\n",
    "plt.plot(my_trades['position'])"
   ]
  },
  {
   "cell_type": "code",
   "execution_count": null,
   "metadata": {},
   "outputs": [],
   "source": []
  }
 ],
 "metadata": {
  "kernelspec": {
   "display_name": "venv",
   "language": "python",
   "name": "python3"
  },
  "language_info": {
   "codemirror_mode": {
    "name": "ipython",
    "version": 3
   },
   "file_extension": ".py",
   "mimetype": "text/x-python",
   "name": "python",
   "nbconvert_exporter": "python",
   "pygments_lexer": "ipython3",
   "version": "3.10.16"
  }
 },
 "nbformat": 4,
 "nbformat_minor": 2
}
